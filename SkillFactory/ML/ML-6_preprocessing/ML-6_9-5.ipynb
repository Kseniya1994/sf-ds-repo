{
 "cells": [
  {
   "cell_type": "markdown",
   "metadata": {},
   "source": [
    "# ЗАДАНИЕ 9.5"
   ]
  },
  {
   "cell_type": "markdown",
   "metadata": {},
   "source": [
    "Обучите модель линейной регрессии на найденных двумя способами трёх важных признаках и сравните полученные результаты. Загрузите полученный ноутбук (в формате IPYNB) в форму ниже."
   ]
  },
  {
   "cell_type": "code",
   "execution_count": 31,
   "metadata": {},
   "outputs": [],
   "source": [
    "import numpy as np #для матричных вычислений\n",
    "import pandas as pd #для анализа и предобработки данных\n",
    " \n",
    "from sklearn import metrics #метрики\n",
    "from sklearn import model_selection #методы разделения и валидации\n",
    "from sklearn.linear_model import LinearRegression\n",
    "from sklearn.model_selection import train_test_split"
   ]
  },
  {
   "cell_type": "code",
   "execution_count": 32,
   "metadata": {},
   "outputs": [],
   "source": [
    "data = pd.read_excel('data/data_ford_price.xlsx')\n"
   ]
  },
  {
   "cell_type": "code",
   "execution_count": 33,
   "metadata": {},
   "outputs": [],
   "source": [
    "data = data[['price','year', 'cylinders', 'odometer', 'lat', 'long', 'weather']]\n",
    "data.dropna(inplace = True) # удаляем пропуски\n",
    "y = data['price'] # целевой признак\n",
    "x = data.drop(columns='price')\n",
    "X_train, X_test, y_train, y_test = train_test_split(x, y, test_size=0.3, random_state=30)"
   ]
  },
  {
   "cell_type": "markdown",
   "metadata": {},
   "source": [
    "### RFE "
   ]
  },
  {
   "cell_type": "code",
   "execution_count": 34,
   "metadata": {},
   "outputs": [],
   "source": [
    "# Отбираем 3 признака по RFE\n",
    "from sklearn.feature_selection import RFE\n",
    " \n",
    "estimator = LinearRegression()\n",
    "selector = RFE(estimator, n_features_to_select=3, step=1)\n",
    "selector = selector.fit(X_train, y_train)\n",
    " \n",
    "rfe_columns = selector.get_feature_names_out()"
   ]
  },
  {
   "cell_type": "code",
   "execution_count": 35,
   "metadata": {},
   "outputs": [],
   "source": [
    "X_train_rfe = X_train[rfe_columns]\n",
    "X_test_rfe = X_test[rfe_columns]"
   ]
  },
  {
   "cell_type": "code",
   "execution_count": 36,
   "metadata": {},
   "outputs": [
    {
     "name": "stdout",
     "output_type": "stream",
     "text": [
      "RFE MAE: 5252.681\n"
     ]
    }
   ],
   "source": [
    "# Обучаем модель на признаках, найденных по  RFE\n",
    "\n",
    "model = LinearRegression()\n",
    "model.fit(X_train_rfe, y_train)\n",
    "y_predicted_rfe = model.predict(X_test_rfe)\n",
    " \n",
    "mae_rfe = metrics.mean_absolute_error(y_test, y_predicted_rfe)\n",
    "print('RFE MAE: %.3f' % mae)"
   ]
  },
  {
   "cell_type": "markdown",
   "metadata": {},
   "source": [
    "### SelectKBest"
   ]
  },
  {
   "cell_type": "code",
   "execution_count": 37,
   "metadata": {},
   "outputs": [],
   "source": [
    "# отбираем признаки\n",
    "from sklearn.feature_selection import SelectKBest, f_regression\n",
    "selector = SelectKBest(f_regression, k=3)\n",
    "selector.fit(X_train, y_train)\n",
    " \n",
    "skb_columns =  selector.get_feature_names_out()"
   ]
  },
  {
   "cell_type": "code",
   "execution_count": 38,
   "metadata": {},
   "outputs": [],
   "source": [
    "X_train_skb = X_train[skb_columns]\n",
    "X_test_skb = X_test[skb_columns]"
   ]
  },
  {
   "cell_type": "code",
   "execution_count": 39,
   "metadata": {},
   "outputs": [
    {
     "name": "stdout",
     "output_type": "stream",
     "text": [
      "SelectKBest MAE: 4910.266\n"
     ]
    }
   ],
   "source": [
    "# Обучаем модель на признаках, найденных по  SelectKBest\n",
    "\n",
    "model = LinearRegression()\n",
    "model.fit(X_train_skb, y_train)\n",
    "y_predicted_skb = model.predict(X_test_skb)\n",
    " \n",
    "mae_skb = metrics.mean_absolute_error(y_test, y_predicted_skb)\n",
    "print('SelectKBest MAE: %.3f' % mae_skb)"
   ]
  },
  {
   "cell_type": "markdown",
   "metadata": {},
   "source": [
    "## ВЫВОДЫ"
   ]
  },
  {
   "cell_type": "code",
   "execution_count": 40,
   "metadata": {},
   "outputs": [
    {
     "name": "stdout",
     "output_type": "stream",
     "text": [
      "RFE MAE: 5252.681\n",
      "SelectKBest MAE: 4910.266\n"
     ]
    }
   ],
   "source": [
    "print('RFE MAE: %.3f' % mae_rfe)\n",
    "print('SelectKBest MAE: %.3f' % mae_skb)"
   ]
  },
  {
   "cell_type": "markdown",
   "metadata": {},
   "source": [
    "Метрика MAE выше у модели, обученной на признаках, отобранных методом RFE. Значит, на этих признаках модель в среднем ошибается больше.  \n",
    "Делаем вывод, что лучше были отобраны признаки методом SelectKBest"
   ]
  }
 ],
 "metadata": {
  "interpreter": {
   "hash": "aee8b7b246df8f9039afb4144a1f6fd8d2ca17a180786b69acc140d282b71a49"
  },
  "kernelspec": {
   "display_name": "Python 3.10.0 64-bit",
   "language": "python",
   "name": "python3"
  },
  "language_info": {
   "codemirror_mode": {
    "name": "ipython",
    "version": 3
   },
   "file_extension": ".py",
   "mimetype": "text/x-python",
   "name": "python",
   "nbconvert_exporter": "python",
   "pygments_lexer": "ipython3",
   "version": "3.10.0"
  },
  "orig_nbformat": 4
 },
 "nbformat": 4,
 "nbformat_minor": 2
}
