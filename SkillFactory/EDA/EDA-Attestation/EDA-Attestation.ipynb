{
 "cells": [
  {
   "cell_type": "code",
   "execution_count": 1,
   "metadata": {},
   "outputs": [],
   "source": [
    "import pandas as pd"
   ]
  },
  {
   "cell_type": "code",
   "execution_count": 15,
   "metadata": {},
   "outputs": [
    {
     "data": {
      "text/html": [
       "<div>\n",
       "<style scoped>\n",
       "    .dataframe tbody tr th:only-of-type {\n",
       "        vertical-align: middle;\n",
       "    }\n",
       "\n",
       "    .dataframe tbody tr th {\n",
       "        vertical-align: top;\n",
       "    }\n",
       "\n",
       "    .dataframe thead th {\n",
       "        text-align: right;\n",
       "    }\n",
       "</style>\n",
       "<table border=\"1\" class=\"dataframe\">\n",
       "  <thead>\n",
       "    <tr style=\"text-align: right;\">\n",
       "      <th></th>\n",
       "      <th>site</th>\n",
       "      <th>dwell-time</th>\n",
       "    </tr>\n",
       "  </thead>\n",
       "  <tbody>\n",
       "    <tr>\n",
       "      <th>0</th>\n",
       "      <td>0</td>\n",
       "      <td>2</td>\n",
       "    </tr>\n",
       "    <tr>\n",
       "      <th>1</th>\n",
       "      <td>1</td>\n",
       "      <td>48</td>\n",
       "    </tr>\n",
       "    <tr>\n",
       "      <th>2</th>\n",
       "      <td>0</td>\n",
       "      <td>15</td>\n",
       "    </tr>\n",
       "    <tr>\n",
       "      <th>3</th>\n",
       "      <td>1</td>\n",
       "      <td>16</td>\n",
       "    </tr>\n",
       "    <tr>\n",
       "      <th>4</th>\n",
       "      <td>0</td>\n",
       "      <td>38</td>\n",
       "    </tr>\n",
       "    <tr>\n",
       "      <th>...</th>\n",
       "      <td>...</td>\n",
       "      <td>...</td>\n",
       "    </tr>\n",
       "    <tr>\n",
       "      <th>295</th>\n",
       "      <td>0</td>\n",
       "      <td>22</td>\n",
       "    </tr>\n",
       "    <tr>\n",
       "      <th>296</th>\n",
       "      <td>0</td>\n",
       "      <td>7</td>\n",
       "    </tr>\n",
       "    <tr>\n",
       "      <th>297</th>\n",
       "      <td>1</td>\n",
       "      <td>144</td>\n",
       "    </tr>\n",
       "    <tr>\n",
       "      <th>298</th>\n",
       "      <td>0</td>\n",
       "      <td>89</td>\n",
       "    </tr>\n",
       "    <tr>\n",
       "      <th>299</th>\n",
       "      <td>0</td>\n",
       "      <td>138</td>\n",
       "    </tr>\n",
       "  </tbody>\n",
       "</table>\n",
       "<p>300 rows × 2 columns</p>\n",
       "</div>"
      ],
      "text/plain": [
       "     site  dwell-time\n",
       "0       0           2\n",
       "1       1          48\n",
       "2       0          15\n",
       "3       1          16\n",
       "4       0          38\n",
       "..    ...         ...\n",
       "295     0          22\n",
       "296     0           7\n",
       "297     1         144\n",
       "298     0          89\n",
       "299     0         138\n",
       "\n",
       "[300 rows x 2 columns]"
      ]
     },
     "execution_count": 15,
     "metadata": {},
     "output_type": "execute_result"
    }
   ],
   "source": [
    "data = pd.read_csv('new-site.csv')\n",
    "data"
   ]
  },
  {
   "cell_type": "code",
   "execution_count": 21,
   "metadata": {},
   "outputs": [
    {
     "data": {
      "text/html": [
       "<div>\n",
       "<style scoped>\n",
       "    .dataframe tbody tr th:only-of-type {\n",
       "        vertical-align: middle;\n",
       "    }\n",
       "\n",
       "    .dataframe tbody tr th {\n",
       "        vertical-align: top;\n",
       "    }\n",
       "\n",
       "    .dataframe thead th {\n",
       "        text-align: right;\n",
       "    }\n",
       "</style>\n",
       "<table border=\"1\" class=\"dataframe\">\n",
       "  <thead>\n",
       "    <tr style=\"text-align: right;\">\n",
       "      <th></th>\n",
       "      <th>dwell-time</th>\n",
       "    </tr>\n",
       "    <tr>\n",
       "      <th>site</th>\n",
       "      <th></th>\n",
       "    </tr>\n",
       "  </thead>\n",
       "  <tbody>\n",
       "    <tr>\n",
       "      <th>0</th>\n",
       "      <td>90.849462</td>\n",
       "    </tr>\n",
       "    <tr>\n",
       "      <th>1</th>\n",
       "      <td>88.000000</td>\n",
       "    </tr>\n",
       "  </tbody>\n",
       "</table>\n",
       "</div>"
      ],
      "text/plain": [
       "      dwell-time\n",
       "site            \n",
       "0      90.849462\n",
       "1      88.000000"
      ]
     },
     "execution_count": 21,
     "metadata": {},
     "output_type": "execute_result"
    }
   ],
   "source": [
    "df = data.groupby('site').mean()\n",
    "\n",
    "df"
   ]
  },
  {
   "cell_type": "code",
   "execution_count": 24,
   "metadata": {},
   "outputs": [
    {
     "ename": "TypeError",
     "evalue": "proportions_ztest() missing 1 required positional argument: 'nobs'",
     "output_type": "error",
     "traceback": [
      "\u001b[0;31m---------------------------------------------------------------------------\u001b[0m",
      "\u001b[0;31mTypeError\u001b[0m                                 Traceback (most recent call last)",
      "\u001b[1;32m/Users/kseniamasnikova/IDE/SkillFactory/EDA/EDA-Attestation/EDA-Attestation.ipynb Cell 4'\u001b[0m in \u001b[0;36m<cell line: 9>\u001b[0;34m()\u001b[0m\n\u001b[1;32m      <a href='vscode-notebook-cell:/Users/kseniamasnikova/IDE/SkillFactory/EDA/EDA-Attestation/EDA-Attestation.ipynb#ch0000003?line=4'>5</a>\u001b[0m alpha \u001b[39m=\u001b[39m \u001b[39m0.05\u001b[39m \u001b[39m# уровень значимости\u001b[39;00m\n\u001b[1;32m      <a href='vscode-notebook-cell:/Users/kseniamasnikova/IDE/SkillFactory/EDA/EDA-Attestation/EDA-Attestation.ipynb#ch0000003?line=7'>8</a>\u001b[0m \u001b[39m# вычисляем значение p-value для z-теста для пропорций\u001b[39;00m\n\u001b[0;32m----> <a href='vscode-notebook-cell:/Users/kseniamasnikova/IDE/SkillFactory/EDA/EDA-Attestation/EDA-Attestation.ipynb#ch0000003?line=8'>9</a>\u001b[0m _, p_value \u001b[39m=\u001b[39m proportions_ztest(\n\u001b[1;32m     <a href='vscode-notebook-cell:/Users/kseniamasnikova/IDE/SkillFactory/EDA/EDA-Attestation/EDA-Attestation.ipynb#ch0000003?line=9'>10</a>\u001b[0m     count\u001b[39m=\u001b[39;49mdf[\u001b[39m'\u001b[39;49m\u001b[39mdwell-time\u001b[39;49m\u001b[39m'\u001b[39;49m], \u001b[39m#число \"успехов\"\u001b[39;49;00m\n\u001b[1;32m     <a href='vscode-notebook-cell:/Users/kseniamasnikova/IDE/SkillFactory/EDA/EDA-Attestation/EDA-Attestation.ipynb#ch0000003?line=10'>11</a>\u001b[0m     \u001b[39m#nobs=df['count'], #общее число наблюдений\u001b[39;49;00m\n\u001b[1;32m     <a href='vscode-notebook-cell:/Users/kseniamasnikova/IDE/SkillFactory/EDA/EDA-Attestation/EDA-Attestation.ipynb#ch0000003?line=11'>12</a>\u001b[0m     alternative\u001b[39m=\u001b[39;49m\u001b[39m'\u001b[39;49m\u001b[39mlarger\u001b[39;49m\u001b[39m'\u001b[39;49m,\n\u001b[1;32m     <a href='vscode-notebook-cell:/Users/kseniamasnikova/IDE/SkillFactory/EDA/EDA-Attestation/EDA-Attestation.ipynb#ch0000003?line=12'>13</a>\u001b[0m )\n\u001b[1;32m     <a href='vscode-notebook-cell:/Users/kseniamasnikova/IDE/SkillFactory/EDA/EDA-Attestation/EDA-Attestation.ipynb#ch0000003?line=13'>14</a>\u001b[0m \u001b[39m# выводим результат на экран\u001b[39;00m\n\u001b[1;32m     <a href='vscode-notebook-cell:/Users/kseniamasnikova/IDE/SkillFactory/EDA/EDA-Attestation/EDA-Attestation.ipynb#ch0000003?line=14'>15</a>\u001b[0m \u001b[39mprint\u001b[39m(\u001b[39m'\u001b[39m\u001b[39mp-value: \u001b[39m\u001b[39m'\u001b[39m, \u001b[39mround\u001b[39m(p_value, \u001b[39m2\u001b[39m))\n",
      "\u001b[0;31mTypeError\u001b[0m: proportions_ztest() missing 1 required positional argument: 'nobs'"
     ]
    }
   ],
   "source": [
    "from statsmodels.stats.proportion import proportions_ztest\n",
    "# нулевая и альтернативная гипотезы\n",
    "H0 = 'Среднее время пребывания в группах А и B равны'\n",
    "H1 = 'Среднее время пребывания в группе А больше, чем в группе B'\n",
    "alpha = 0.05 # уровень значимости\n",
    "\n",
    "\n",
    "# вычисляем значение p-value для z-теста для пропорций\n",
    "_, p_value = proportions_ztest(\n",
    "    count=df['dwell-time'], #число \"успехов\"\n",
    "    nobs=df['count'], #общее число наблюдений\n",
    "    alternative='larger',\n",
    ")\n",
    "# выводим результат на экран\n",
    "print('p-value: ', round(p_value, 2))\n",
    "# сравниваем полученное p-value с уровнем значимости\n",
    "if (p_value < alpha): \n",
    "    print(\"Отвергаем нулевую гипотезу. {}\".format(H0))\n",
    "    print(\"Альтернативная гипотеза. H1: {}\".format(H1))\n",
    "else:\n",
    "    print(\"Принимаем нулевую гипотезу. {}\".format(H0))\n",
    " \n",
    "# p-value:  0.1\n",
    "# Принимаем нулевую гипотезу. Конверсии в группах А и B равны"
   ]
  },
  {
   "cell_type": "code",
   "execution_count": 26,
   "metadata": {},
   "outputs": [
    {
     "name": "stdout",
     "output_type": "stream",
     "text": [
      "p-value: nan\n",
      "Принимаем нулевую гипотезу. Среднее время в группах одинаково\n"
     ]
    }
   ],
   "source": [
    "from scipy.stats import ttest_ind\n",
    "# нулевая и альтернативная гипотезы\n",
    "H0 = 'Среднее время в группах одинаково'\n",
    "H1 = 'Среднее время в группе А меньше, чем в группе B'\n",
    "alpha = 0.05 #уровень значимости\n",
    "#вычисляем результат T-теста для выборок\n",
    "results = ttest_ind(\n",
    "    a=df['dwell-time'].iloc[0],\n",
    "    b=df['dwell-time'].iloc[1], \n",
    "    alternative='greater'\n",
    ")\n",
    "print('p-value:', round(results.pvalue, 2))\n",
    " \n",
    "if results.pvalue < alpha:\n",
    "    print(\"Отвергаем нулевую гипотезу. {}\".format(H0))\n",
    "    print(\"Альтернативная гипотеза. H1: {}\".format(H1))\n",
    "else:\n",
    "    print(\"Принимаем нулевую гипотезу. {}\".format(H0))"
   ]
  }
 ],
 "metadata": {
  "interpreter": {
   "hash": "aee8b7b246df8f9039afb4144a1f6fd8d2ca17a180786b69acc140d282b71a49"
  },
  "kernelspec": {
   "display_name": "Python 3.10.0 64-bit",
   "language": "python",
   "name": "python3"
  },
  "language_info": {
   "codemirror_mode": {
    "name": "ipython",
    "version": 3
   },
   "file_extension": ".py",
   "mimetype": "text/x-python",
   "name": "python",
   "nbconvert_exporter": "python",
   "pygments_lexer": "ipython3",
   "version": "3.10.0"
  },
  "orig_nbformat": 4
 },
 "nbformat": 4,
 "nbformat_minor": 2
}
