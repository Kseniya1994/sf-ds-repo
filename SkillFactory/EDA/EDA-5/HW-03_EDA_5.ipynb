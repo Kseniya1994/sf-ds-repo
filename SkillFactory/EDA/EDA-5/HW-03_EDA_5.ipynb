{
 "cells": [
  {
   "cell_type": "markdown",
   "id": "c8a6af25-08d3-487a-bd90-001772ac9161",
   "metadata": {},
   "source": [
    "## <center> **Анализ результатов A/B-тестирования**"
   ]
  },
  {
   "cell_type": "markdown",
   "id": "d7d45571-6545-4904-a86b-9b3b6b8163d3",
   "metadata": {},
   "source": [
    "Компания планирует запустить новую акцию, чтобы продать как можно больше туров. Команда разработала два варианта посадочной страницы официального сайта компании и провела A/B-тестирование. Собранные в результате проведения эксперимента данные вы можете найти здесь.\n",
    "\n",
    "Вам предстоит решить настоящую бизнес-задачу: проанализировать эффективность обоих вариантов посадочной страницы сразу по двум критериям: конверсии покупки и среднему чеку. На основе проведенного анализа вам будет необходимо сделать выводы и принять решение: какой из вариантов дизайна более предпочтительный.\n",
    "\n",
    "Итак, наша фирма предлагает следующие варианты туров и их соответствующие стоимости:\n",
    "* Таиланд — 100000 рублей;\n",
    "* Турция — 60000 рублей;\n",
    "* Мальдивы — 200000 рублей;\n",
    "* Санкт-Петербург — 10000 рублей;\n",
    "* Камчатка — 150000 рублей."
   ]
  },
  {
   "cell_type": "code",
   "execution_count": 1,
   "id": "a974b482-e192-4014-8520-8a5c0c946da6",
   "metadata": {},
   "outputs": [],
   "source": [
    "import pandas as pd\n",
    "import matplotlib.pyplot as plt\n",
    "import seaborn as sns\n",
    "from scipy.stats import norm\n",
    "from scipy.stats import t\n",
    "from scipy.stats import ttest_ind, shapiro, f_oneway, mannwhitneyu\n",
    "from statsmodels.stats.proportion import proportions_ztest"
   ]
  },
  {
   "cell_type": "markdown",
   "id": "55c84550-4162-4325-acc2-7d3c0aafe6f0",
   "metadata": {},
   "source": [
    "Прочитаем наши данные и посмотрим на столбцы таблицы:"
   ]
  },
  {
   "cell_type": "code",
   "execution_count": 2,
   "id": "b0d18245-b9da-44bd-8aea-d272ea74b63a",
   "metadata": {},
   "outputs": [
    {
     "data": {
      "text/html": [
       "<div>\n",
       "<style scoped>\n",
       "    .dataframe tbody tr th:only-of-type {\n",
       "        vertical-align: middle;\n",
       "    }\n",
       "\n",
       "    .dataframe tbody tr th {\n",
       "        vertical-align: top;\n",
       "    }\n",
       "\n",
       "    .dataframe thead th {\n",
       "        text-align: right;\n",
       "    }\n",
       "</style>\n",
       "<table border=\"1\" class=\"dataframe\">\n",
       "  <thead>\n",
       "    <tr style=\"text-align: right;\">\n",
       "      <th></th>\n",
       "      <th>user_id</th>\n",
       "      <th>date</th>\n",
       "      <th>group</th>\n",
       "      <th>purchase</th>\n",
       "      <th>price</th>\n",
       "    </tr>\n",
       "  </thead>\n",
       "  <tbody>\n",
       "    <tr>\n",
       "      <th>0</th>\n",
       "      <td>851104</td>\n",
       "      <td>2021-01-21</td>\n",
       "      <td>A</td>\n",
       "      <td>0</td>\n",
       "      <td>0</td>\n",
       "    </tr>\n",
       "    <tr>\n",
       "      <th>1</th>\n",
       "      <td>804228</td>\n",
       "      <td>2021-01-12</td>\n",
       "      <td>A</td>\n",
       "      <td>0</td>\n",
       "      <td>0</td>\n",
       "    </tr>\n",
       "    <tr>\n",
       "      <th>2</th>\n",
       "      <td>661590</td>\n",
       "      <td>2021-01-11</td>\n",
       "      <td>B</td>\n",
       "      <td>0</td>\n",
       "      <td>0</td>\n",
       "    </tr>\n",
       "    <tr>\n",
       "      <th>3</th>\n",
       "      <td>853541</td>\n",
       "      <td>2021-01-08</td>\n",
       "      <td>B</td>\n",
       "      <td>0</td>\n",
       "      <td>0</td>\n",
       "    </tr>\n",
       "    <tr>\n",
       "      <th>4</th>\n",
       "      <td>864975</td>\n",
       "      <td>2021-01-21</td>\n",
       "      <td>A</td>\n",
       "      <td>1</td>\n",
       "      <td>150000</td>\n",
       "    </tr>\n",
       "  </tbody>\n",
       "</table>\n",
       "</div>"
      ],
      "text/plain": [
       "   user_id        date group  purchase   price\n",
       "0   851104  2021-01-21     A         0       0\n",
       "1   804228  2021-01-12     A         0       0\n",
       "2   661590  2021-01-11     B         0       0\n",
       "3   853541  2021-01-08     B         0       0\n",
       "4   864975  2021-01-21     A         1  150000"
      ]
     },
     "execution_count": 2,
     "metadata": {},
     "output_type": "execute_result"
    }
   ],
   "source": [
    "data = pd.read_csv('data/ab_data_tourist.csv')\n",
    "data.head()"
   ]
  },
  {
   "cell_type": "markdown",
   "id": "2fc48225-26ac-49c4-b99d-8b2a03dd74a1",
   "metadata": {
    "tags": []
   },
   "source": [
    "## **Задание 7.1.**\n",
    "\n",
    "Начнем с исследования структуры наших данных. С помощью метода info() выведите информацию о типах данных и количестве непустых значений. Какой тип данных имеет столбец date?"
   ]
  },
  {
   "cell_type": "code",
   "execution_count": 3,
   "id": "23496521-4878-46e2-ab02-1a98be14884a",
   "metadata": {},
   "outputs": [
    {
     "name": "stdout",
     "output_type": "stream",
     "text": [
      "<class 'pandas.core.frame.DataFrame'>\n",
      "RangeIndex: 294478 entries, 0 to 294477\n",
      "Data columns (total 5 columns):\n",
      " #   Column    Non-Null Count   Dtype \n",
      "---  ------    --------------   ----- \n",
      " 0   user_id   294478 non-null  int64 \n",
      " 1   date      294478 non-null  object\n",
      " 2   group     294478 non-null  object\n",
      " 3   purchase  294478 non-null  int64 \n",
      " 4   price     294478 non-null  int64 \n",
      "dtypes: int64(3), object(2)\n",
      "memory usage: 11.2+ MB\n"
     ]
    }
   ],
   "source": [
    "data.info()"
   ]
  },
  {
   "cell_type": "markdown",
   "id": "0a9dabcd",
   "metadata": {},
   "source": [
    "У столбца date тип object(строка)."
   ]
  },
  {
   "cell_type": "markdown",
   "id": "946d017d-b4fe-4a17-b91d-0ce369d1ab2e",
   "metadata": {
    "tags": []
   },
   "source": [
    "## **Задание 7.2.**\n",
    "\n",
    "Приведите столбец date к типу данных datetime. Убедитесь в равной длительности проведения тестирования для каждой из группы. Для этого сгруппируйте данные по признаку группы и определите первую и последнюю дату наблюдения для каждой из групп. \n",
    "\n",
    "В какой промежуток времени проводился A/B-тест?\n"
   ]
  },
  {
   "cell_type": "code",
   "execution_count": 8,
   "id": "604c619d-6338-45c8-8248-ac098a2366bb",
   "metadata": {},
   "outputs": [
    {
     "data": {
      "text/html": [
       "<div>\n",
       "<style scoped>\n",
       "    .dataframe tbody tr th:only-of-type {\n",
       "        vertical-align: middle;\n",
       "    }\n",
       "\n",
       "    .dataframe tbody tr th {\n",
       "        vertical-align: top;\n",
       "    }\n",
       "\n",
       "    .dataframe thead th {\n",
       "        text-align: right;\n",
       "    }\n",
       "</style>\n",
       "<table border=\"1\" class=\"dataframe\">\n",
       "  <thead>\n",
       "    <tr style=\"text-align: right;\">\n",
       "      <th></th>\n",
       "      <th>min</th>\n",
       "      <th>max</th>\n",
       "    </tr>\n",
       "    <tr>\n",
       "      <th>group</th>\n",
       "      <th></th>\n",
       "      <th></th>\n",
       "    </tr>\n",
       "  </thead>\n",
       "  <tbody>\n",
       "    <tr>\n",
       "      <th>A</th>\n",
       "      <td>2021-01-02</td>\n",
       "      <td>2021-01-24</td>\n",
       "    </tr>\n",
       "    <tr>\n",
       "      <th>B</th>\n",
       "      <td>2021-01-02</td>\n",
       "      <td>2021-01-24</td>\n",
       "    </tr>\n",
       "  </tbody>\n",
       "</table>\n",
       "</div>"
      ],
      "text/plain": [
       "             min        max\n",
       "group                      \n",
       "A     2021-01-02 2021-01-24\n",
       "B     2021-01-02 2021-01-24"
      ]
     },
     "execution_count": 8,
     "metadata": {},
     "output_type": "execute_result"
    }
   ],
   "source": [
    "data['date'] = pd.to_datetime(data['date'])\n",
    "data.groupby(['group'])['date'].agg(['min','max'])"
   ]
  },
  {
   "cell_type": "markdown",
   "id": "773182a8",
   "metadata": {},
   "source": [
    "Даты проведения тестирования в обоих группах совпадают.  \n",
    "Тестирование проводилось с 2021-01-02 по 2021-01-24"
   ]
  },
  {
   "cell_type": "markdown",
   "id": "e04eb341-52ae-48b3-9dc2-0578ca91641a",
   "metadata": {},
   "source": [
    "## **Задание 7.3.**\n",
    "\n",
    "* Чему равно количество посещений сайта в группах А и B?\n",
    "\n",
    "* Чему равно суммарное количество покупок в группах А и B?\n",
    "\n",
    "* Чему равна сумма всех покупок в группах А и B? Ответ приведите в миллионах рублей. Например, 185.52 млн. руб."
   ]
  },
  {
   "cell_type": "code",
   "execution_count": 27,
   "id": "02bf0148-488e-4f34-95bf-37794b2fa98b",
   "metadata": {},
   "outputs": [
    {
     "name": "stdout",
     "output_type": "stream",
     "text": [
      "Количество посещений в группе A = 147202\n",
      "Количество посещений в группе B = 147276\n",
      "Суммарное количество покупок в группе A = 17723\n",
      "Суммарное количество покупок в группе B = 17514\n",
      "Сумма всех покупок в группе A = 1436.26 млн.руб\n",
      "Сумма всех покупок в группе B = 1554.1 млн.руб\n"
     ]
    }
   ],
   "source": [
    "data_group = data.groupby(['group']).agg({\n",
    "    'user_id' : 'count',\n",
    "    'purchase' : 'sum',\n",
    "    'price' : 'sum'\n",
    "}).reset_index().rename(columns={'user_id':'user_count'})\n",
    "\n",
    "print(f\"Количество посещений в группе A = {data_group.iloc[0]['user_count']}\")\n",
    "print(f\"Количество посещений в группе B = {data_group.iloc[1]['user_count']}\")\n",
    "print(f\"Суммарное количество покупок в группе A = {data_group.iloc[0]['purchase']}\")\n",
    "print(f\"Суммарное количество покупок в группе B = {data_group.iloc[1]['purchase']}\")\n",
    "print(f\"Сумма всех покупок в группе A = {data_group.iloc[0]['price']/1000000} млн.руб\")\n",
    "print(f\"Сумма всех покупок в группе B = {data_group.iloc[1]['price']/1000000} млн.руб\")"
   ]
  },
  {
   "cell_type": "markdown",
   "id": "2434db1b-17e6-4977-8e54-1df875c6f221",
   "metadata": {
    "tags": []
   },
   "source": [
    "## **Задание 7.4.**\n",
    "\n",
    "Проверьте, есть ли пользователи, которые в процессе A/B-теста попали в обе тестовые группы? Если да, то сколько таких уникальных пользователей, если нет - введите в поле для ответа 0?\n",
    "\n",
    "**Подсказка:**\n",
    "\n",
    "*Создайте множество пользователей группы А и множество пользователей группы B. Пересеките два этих множества (операция intersection) и вычислите количество элементов в полученном множестве.*\n"
   ]
  },
  {
   "cell_type": "code",
   "execution_count": 33,
   "id": "57a2d711-057d-4f8b-9f56-df0f772d41c8",
   "metadata": {},
   "outputs": [
    {
     "data": {
      "text/plain": [
       "1895"
      ]
     },
     "execution_count": 33,
     "metadata": {},
     "output_type": "execute_result"
    }
   ],
   "source": [
    "set_a = set(data[data['group']=='A']['user_id'])\n",
    "set_b = data[data['group']=='B']['user_id']\n",
    "\n",
    "user_intersection = set_a.intersection(set_b)\n",
    "len(user_intersection)"
   ]
  },
  {
   "cell_type": "markdown",
   "id": "118b1904-7d7a-4935-825e-535da45c611b",
   "metadata": {
    "tags": []
   },
   "source": [
    "## **Исключите пользователей, оказавшихся в обеих группах**\n",
    "\n",
    "Так как мы не можем определить, какая из версий сайта повлияла на принятие решения, исключим этих пользователей. Далее мы будем работать только с очищенными от пересечений данными.\n",
    "\n",
    "Возможный вариант исключения пользователей:"
   ]
  },
  {
   "cell_type": "code",
   "execution_count": 34,
   "id": "f618b34b-35a3-4bf1-8d6d-38b3401930b7",
   "metadata": {},
   "outputs": [],
   "source": [
    "updated_data = data[data['user_id'].apply(lambda x: x not in user_intersection)]"
   ]
  },
  {
   "cell_type": "markdown",
   "id": "2bce6c9a-6580-4250-b280-204d40d20da2",
   "metadata": {},
   "source": [
    "Где user_intersection - множество пересечений пользователей групп А и B."
   ]
  },
  {
   "attachments": {
    "95f235d2-6323-4799-bf69-697fc57f727b.png": {
     "image/png": "[encoded data removed]"
    }
   },
   "cell_type": "markdown",
   "id": "2ddf6b2c-7987-41f3-82b1-8992630ae97b",
   "metadata": {
    "tags": []
   },
   "source": [
    "## **Задание 7.5.**\n",
    "\n",
    "Для первичного анализа результатов A/B-тестирования нам понадобится таблица следующего вида:\n",
    "\n",
    "![image.png](attachment:95f235d2-6323-4799-bf69-697fc57f727b.png)\n",
    " \n",
    " \n",
    "Для того, чтобы получить такую таблицу, сгруппируйте данные по признаку группы. В каждой группе рассчитайте следующие показатели:\n",
    "* количество посещений (количество пользователей)\n",
    "* количество совершенных покупок\n",
    "* сумма всех покупок в группе\n",
    "\n",
    "В полученной сгруппированной таблице переименуйте столбцы на **count_visits, count_purchases и sum_price**.\n",
    "\n",
    "**Подсказка:**\n",
    "\n",
    "*Для переименования столбцов можно использовать метод rename() с параметром columns, в который передается словарь. Ключи этого словаря - старые имена столбцов, а значения - новые.*\n",
    "\n",
    "Чему на этот раз равно количество посещений сайта в группах А и B?\n"
   ]
  },
  {
   "cell_type": "code",
   "execution_count": 39,
   "id": "5c0c018e-a250-48e9-b72a-e3c7be586ebd",
   "metadata": {},
   "outputs": [
    {
     "data": {
      "text/html": [
       "<div>\n",
       "<style scoped>\n",
       "    .dataframe tbody tr th:only-of-type {\n",
       "        vertical-align: middle;\n",
       "    }\n",
       "\n",
       "    .dataframe tbody tr th {\n",
       "        vertical-align: top;\n",
       "    }\n",
       "\n",
       "    .dataframe thead th {\n",
       "        text-align: right;\n",
       "    }\n",
       "</style>\n",
       "<table border=\"1\" class=\"dataframe\">\n",
       "  <thead>\n",
       "    <tr style=\"text-align: right;\">\n",
       "      <th></th>\n",
       "      <th>group</th>\n",
       "      <th>count_visits</th>\n",
       "      <th>count_purchases</th>\n",
       "      <th>sum_price</th>\n",
       "    </tr>\n",
       "  </thead>\n",
       "  <tbody>\n",
       "    <tr>\n",
       "      <th>0</th>\n",
       "      <td>A</td>\n",
       "      <td>145307</td>\n",
       "      <td>17487</td>\n",
       "      <td>1417780000</td>\n",
       "    </tr>\n",
       "    <tr>\n",
       "      <th>1</th>\n",
       "      <td>B</td>\n",
       "      <td>145381</td>\n",
       "      <td>17290</td>\n",
       "      <td>1533010000</td>\n",
       "    </tr>\n",
       "  </tbody>\n",
       "</table>\n",
       "</div>"
      ],
      "text/plain": [
       "  group  count_visits  count_purchases   sum_price\n",
       "0     A        145307            17487  1417780000\n",
       "1     B        145381            17290  1533010000"
      ]
     },
     "execution_count": 39,
     "metadata": {},
     "output_type": "execute_result"
    }
   ],
   "source": [
    "data_group = updated_data.groupby(['group']).agg({\n",
    "    'user_id' : 'count',\n",
    "    'purchase' : 'sum',\n",
    "    'price' : 'sum'\n",
    "}).reset_index().rename(columns={\n",
    "    \"user_id\" : \"count_visits\",\n",
    "    \"purchase\" : \"count_purchases\",\n",
    "    \"price\" : \"sum_price\"\n",
    "})\n",
    "data_group"
   ]
  },
  {
   "cell_type": "markdown",
   "id": "b71e1390-9846-4a8e-b357-f82b847d1952",
   "metadata": {},
   "source": [
    "Приведите промежуточные выводы по построенной таблице. Сопоставимо ли количество посещений обоих вариантов посадочной странице, можно ли говорить о сбалансированности выборок?"
   ]
  },
  {
   "cell_type": "markdown",
   "id": "4ea1b65b-475e-4bff-9460-fac0acdb9620",
   "metadata": {},
   "source": [
    "Количество посещений сайта в группах A и B практически не отличаются. Можем говорить о сбалансированности выборок."
   ]
  },
  {
   "cell_type": "markdown",
   "id": "afb2ee0a-31d1-45a5-be42-a2bf168b9448",
   "metadata": {
    "tags": []
   },
   "source": [
    "## **Задание 7.6.**\n",
    "\n",
    "Добавьте в сгруппированную таблицу столбцы conversion - конверсия покупки (отношение количества покупок к количеству посещений сайта в каждой группе, выраженное в процентах) и mean_check - средний чек (отношение суммы покупок к количеству покупок в каждой группе).\n",
    "\n",
    "* Чему равна конверсия в группах? Ответ приведите в процентах и округлите до сотых. Например, 75.12 %\n",
    "* Чему равен средний чек в группах? Ответ приведите в рублях и округлите до целых. Например, 120519 рублей."
   ]
  },
  {
   "cell_type": "code",
   "execution_count": 43,
   "id": "bd9c3b3e-5956-41a8-bae0-43693f6de1f2",
   "metadata": {},
   "outputs": [
    {
     "data": {
      "text/html": [
       "<div>\n",
       "<style scoped>\n",
       "    .dataframe tbody tr th:only-of-type {\n",
       "        vertical-align: middle;\n",
       "    }\n",
       "\n",
       "    .dataframe tbody tr th {\n",
       "        vertical-align: top;\n",
       "    }\n",
       "\n",
       "    .dataframe thead th {\n",
       "        text-align: right;\n",
       "    }\n",
       "</style>\n",
       "<table border=\"1\" class=\"dataframe\">\n",
       "  <thead>\n",
       "    <tr style=\"text-align: right;\">\n",
       "      <th></th>\n",
       "      <th>group</th>\n",
       "      <th>count_visits</th>\n",
       "      <th>count_purchases</th>\n",
       "      <th>sum_price</th>\n",
       "      <th>conversion</th>\n",
       "      <th>mean_check</th>\n",
       "    </tr>\n",
       "  </thead>\n",
       "  <tbody>\n",
       "    <tr>\n",
       "      <th>0</th>\n",
       "      <td>A</td>\n",
       "      <td>145307</td>\n",
       "      <td>17487</td>\n",
       "      <td>1417780000</td>\n",
       "      <td>12.034520</td>\n",
       "      <td>81076.228055</td>\n",
       "    </tr>\n",
       "    <tr>\n",
       "      <th>1</th>\n",
       "      <td>B</td>\n",
       "      <td>145381</td>\n",
       "      <td>17290</td>\n",
       "      <td>1533010000</td>\n",
       "      <td>11.892888</td>\n",
       "      <td>88664.545980</td>\n",
       "    </tr>\n",
       "  </tbody>\n",
       "</table>\n",
       "</div>"
      ],
      "text/plain": [
       "  group  count_visits  count_purchases   sum_price  conversion    mean_check\n",
       "0     A        145307            17487  1417780000   12.034520  81076.228055\n",
       "1     B        145381            17290  1533010000   11.892888  88664.545980"
      ]
     },
     "execution_count": 43,
     "metadata": {},
     "output_type": "execute_result"
    }
   ],
   "source": [
    "data_group['conversion'] = data_group['count_purchases'] / data_group['count_visits'] * 100\n",
    "data_group['mean_check'] = data_group['sum_price'] / data_group['count_purchases']\n",
    "data_group"
   ]
  },
  {
   "cell_type": "markdown",
   "id": "1eb6e140-c702-43e0-b301-9914a7f49448",
   "metadata": {},
   "source": [
    "Приведите промежуточные выводы по таблице. По какому(им) показателю(ям) вариант А эффективнее варианта B и наоборот?"
   ]
  },
  {
   "cell_type": "markdown",
   "id": "9e88c883-84f9-44ec-accd-04d5d459b261",
   "metadata": {},
   "source": [
    "Вариант A эффективнее по конверсии, а вариант B эффективнее по среднему чеку."
   ]
  },
  {
   "cell_type": "markdown",
   "id": "7f9f1ae0-f12f-49b3-8b57-1c299c208c49",
   "metadata": {
    "tags": []
   },
   "source": [
    "## **Задание 7.7.**\n",
    "\n",
    "Теперь давайте сравним варианты по покупательской способности туров. Для этого постройте сводную таблицу, которая покажет зависимость количества продаж от группы и цены тура. "
   ]
  },
  {
   "cell_type": "code",
   "execution_count": 47,
   "id": "78d46a02-cc30-4783-9b18-9fc9c6a08012",
   "metadata": {},
   "outputs": [
    {
     "data": {
      "text/html": [
       "<div>\n",
       "<style scoped>\n",
       "    .dataframe tbody tr th:only-of-type {\n",
       "        vertical-align: middle;\n",
       "    }\n",
       "\n",
       "    .dataframe tbody tr th {\n",
       "        vertical-align: top;\n",
       "    }\n",
       "\n",
       "    .dataframe thead th {\n",
       "        text-align: right;\n",
       "    }\n",
       "</style>\n",
       "<table border=\"1\" class=\"dataframe\">\n",
       "  <thead>\n",
       "    <tr style=\"text-align: right;\">\n",
       "      <th>price</th>\n",
       "      <th>0</th>\n",
       "      <th>10000</th>\n",
       "      <th>60000</th>\n",
       "      <th>100000</th>\n",
       "      <th>150000</th>\n",
       "      <th>200000</th>\n",
       "    </tr>\n",
       "    <tr>\n",
       "      <th>group</th>\n",
       "      <th></th>\n",
       "      <th></th>\n",
       "      <th></th>\n",
       "      <th></th>\n",
       "      <th></th>\n",
       "      <th></th>\n",
       "    </tr>\n",
       "  </thead>\n",
       "  <tbody>\n",
       "    <tr>\n",
       "      <th>A</th>\n",
       "      <td>127820</td>\n",
       "      <td>5182</td>\n",
       "      <td>5271</td>\n",
       "      <td>1832</td>\n",
       "      <td>3478</td>\n",
       "      <td>1724</td>\n",
       "    </tr>\n",
       "    <tr>\n",
       "      <th>B</th>\n",
       "      <td>128091</td>\n",
       "      <td>5201</td>\n",
       "      <td>1730</td>\n",
       "      <td>5227</td>\n",
       "      <td>3438</td>\n",
       "      <td>1694</td>\n",
       "    </tr>\n",
       "  </tbody>\n",
       "</table>\n",
       "</div>"
      ],
      "text/plain": [
       "price  0       10000   60000   100000  150000  200000\n",
       "group                                                \n",
       "A      127820    5182    5271    1832    3478    1724\n",
       "B      128091    5201    1730    5227    3438    1694"
      ]
     },
     "execution_count": 47,
     "metadata": {},
     "output_type": "execute_result"
    }
   ],
   "source": [
    "pivot_data = updated_data.pivot_table(\n",
    "    values = 'purchase',\n",
    "    index = 'group',\n",
    "    columns= 'price',\n",
    "    aggfunc= 'count'\n",
    ")\n",
    "pivot_data"
   ]
  },
  {
   "cell_type": "markdown",
   "id": "977423ed-8f8d-475c-b773-621edd95338d",
   "metadata": {},
   "source": [
    "Визуализируйте полученную сводную таблицу с помощью тепловой карты с аннотацией. \n",
    "Чему равно количество проданных туров за 60000 рублей в группах?"
   ]
  },
  {
   "cell_type": "code",
   "execution_count": 50,
   "id": "f634fa8d-585c-42e3-b7d5-78e8d9eaa8c5",
   "metadata": {},
   "outputs": [
    {
     "data": {
      "text/plain": [
       "<AxesSubplot:xlabel='price', ylabel='group'>"
      ]
     },
     "execution_count": 50,
     "metadata": {},
     "output_type": "execute_result"
    },
    {
     "data": {
      "image/png": "[encoded data removed]",
      "text/plain": [
       "<Figure size 576x288 with 2 Axes>"
      ]
     },
     "metadata": {
      "needs_background": "light"
     },
     "output_type": "display_data"
    }
   ],
   "source": [
    "fig = plt.figure(figsize=(8,4))\n",
    "sns.heatmap(pivot_data, annot=True, linewidths=.5, fmt='d', cmap='coolwarm')"
   ]
  },
  {
   "cell_type": "markdown",
   "id": "9caa92ca-e261-4b8f-a16c-2abc322c9ffb",
   "metadata": {},
   "source": [
    "Сделайте выводы по построенной таблице. По каким турам покупательская способность участников группы А выше, чем участников группы B и наоборот?"
   ]
  },
  {
   "cell_type": "markdown",
   "id": "6d13fd45-e3df-468f-9d32-1fc45d38b10c",
   "metadata": {},
   "source": [
    "У группы A покупательская способность выше по турам за 60000, 150000 и 200000. По турам за 10000 и 100000 покупательская способность выше у группы B."
   ]
  },
  {
   "cell_type": "markdown",
   "id": "8f021fb4-d0f6-4e43-b518-1a96c07a4531",
   "metadata": {
    "tags": []
   },
   "source": [
    "## **Задание 7.8.**\n",
    "\n",
    "Настало время поговорить о стабилизации кумулятивных метрик во времени. Но прежде, чем перейти к кумулятивным метрикам, нам необходимо построить таблицу с ежедневными данными результатов проведения A/B-тестирования.\n",
    "\n",
    "Сгруппируйте данные по дате и группе тестирования. В каждой группе вычислите количество посещений страницы, количество покупок и сумму покупок. \n",
    "\n",
    "Добавьте в таблицу информацию о ежедневной конверсии (ежедневное количество покупок / ежедневное количество посещений) в группе и ежедневном среднем чеке (ежедневная сумма покупок / ежедневное количество покупок)\n",
    "* Чему равна конверсия 3 января 2021 года? Ответ приведите в процентах и округлите до сотых.\n",
    "\n",
    "* Чему равен средний чек 3 января 2021 года? Ответ приведите в рублях и округлите до целого."
   ]
  },
  {
   "cell_type": "code",
   "execution_count": 62,
   "id": "4503b528-412e-433a-bc03-da7da52fa1a3",
   "metadata": {},
   "outputs": [
    {
     "data": {
      "text/html": [
       "<div>\n",
       "<style scoped>\n",
       "    .dataframe tbody tr th:only-of-type {\n",
       "        vertical-align: middle;\n",
       "    }\n",
       "\n",
       "    .dataframe tbody tr th {\n",
       "        vertical-align: top;\n",
       "    }\n",
       "\n",
       "    .dataframe thead th {\n",
       "        text-align: right;\n",
       "    }\n",
       "</style>\n",
       "<table border=\"1\" class=\"dataframe\">\n",
       "  <thead>\n",
       "    <tr style=\"text-align: right;\">\n",
       "      <th></th>\n",
       "      <th>date</th>\n",
       "      <th>group</th>\n",
       "      <th>count_visits</th>\n",
       "      <th>count_purchases</th>\n",
       "      <th>sum_price</th>\n",
       "      <th>conversion</th>\n",
       "      <th>mean_check</th>\n",
       "    </tr>\n",
       "  </thead>\n",
       "  <tbody>\n",
       "    <tr>\n",
       "      <th>2</th>\n",
       "      <td>2021-01-03</td>\n",
       "      <td>A</td>\n",
       "      <td>6596</td>\n",
       "      <td>748</td>\n",
       "      <td>62000000</td>\n",
       "      <td>11.340206</td>\n",
       "      <td>82887.700535</td>\n",
       "    </tr>\n",
       "    <tr>\n",
       "      <th>3</th>\n",
       "      <td>2021-01-03</td>\n",
       "      <td>B</td>\n",
       "      <td>6619</td>\n",
       "      <td>754</td>\n",
       "      <td>65960000</td>\n",
       "      <td>11.391449</td>\n",
       "      <td>87480.106101</td>\n",
       "    </tr>\n",
       "  </tbody>\n",
       "</table>\n",
       "</div>"
      ],
      "text/plain": [
       "        date group  count_visits  count_purchases  sum_price  conversion  \\\n",
       "2 2021-01-03     A          6596              748   62000000   11.340206   \n",
       "3 2021-01-03     B          6619              754   65960000   11.391449   \n",
       "\n",
       "     mean_check  \n",
       "2  82887.700535  \n",
       "3  87480.106101  "
      ]
     },
     "execution_count": 62,
     "metadata": {},
     "output_type": "execute_result"
    }
   ],
   "source": [
    "data_cum = updated_data.groupby(['date','group']).agg({\n",
    "    'user_id' : 'count',\n",
    "    'purchase' : 'sum',\n",
    "    'price' : 'sum'\n",
    "}).reset_index().rename(columns={\n",
    "    \"user_id\" : \"count_visits\",\n",
    "    \"purchase\" : \"count_purchases\",\n",
    "    \"price\" : \"sum_price\"\n",
    "})\n",
    "\n",
    "data_cum['conversion'] = data_cum['count_purchases'] / data_cum['count_visits'] * 100\n",
    "data_cum['mean_check'] = data_cum['sum_price'] / data_cum['count_purchases']\n",
    "\n",
    "data_cum[data_cum['date']=='2021-01-03']"
   ]
  },
  {
   "cell_type": "markdown",
   "id": "bc8e241b-1ef1-4f67-ab90-77251889b7f2",
   "metadata": {},
   "source": [
    "## **Задание 7.9.** \n",
    "\n",
    "Добавьте в таблицу с ежедневными показателями кумулятивные признаки:\n",
    "* кумулятивное количество посещений страницы\n",
    "* кумулятивное количество покупок\n",
    "* кумулятивную сумму покупок\n",
    "\n",
    "Не забудьте при расчете кумулятивной суммы сгруппировать данные по группам. \n",
    "\n",
    "Вычислите кумулятивную конверсию и кумулятивный средний чек на основе полученных кумулятивных показателей. \n",
    "\n",
    "* Какая **кумулятивная** конверсия была в группе B на 20 января? Ответ приведите в процентах, округлив до сотых.\n",
    "* Какой **кумулятивный** средний чек был в группе А на 12 января 2021 года? Ответ приведите в рублях, округлив до целых."
   ]
  },
  {
   "cell_type": "code",
   "execution_count": 65,
   "id": "afe59f9a-8d39-45c1-a14f-9f62091d81a1",
   "metadata": {},
   "outputs": [
    {
     "data": {
      "text/html": [
       "<div>\n",
       "<style scoped>\n",
       "    .dataframe tbody tr th:only-of-type {\n",
       "        vertical-align: middle;\n",
       "    }\n",
       "\n",
       "    .dataframe tbody tr th {\n",
       "        vertical-align: top;\n",
       "    }\n",
       "\n",
       "    .dataframe thead th {\n",
       "        text-align: right;\n",
       "    }\n",
       "</style>\n",
       "<table border=\"1\" class=\"dataframe\">\n",
       "  <thead>\n",
       "    <tr style=\"text-align: right;\">\n",
       "      <th></th>\n",
       "      <th>date</th>\n",
       "      <th>group</th>\n",
       "      <th>count_visits</th>\n",
       "      <th>count_purchases</th>\n",
       "      <th>sum_price</th>\n",
       "      <th>conversion</th>\n",
       "      <th>mean_check</th>\n",
       "      <th>cum_users_count</th>\n",
       "      <th>cum_count_purchases</th>\n",
       "      <th>cum_sum_price</th>\n",
       "      <th>cum_conversion</th>\n",
       "      <th>cum_mean_check</th>\n",
       "    </tr>\n",
       "  </thead>\n",
       "  <tbody>\n",
       "    <tr>\n",
       "      <th>20</th>\n",
       "      <td>2021-01-12</td>\n",
       "      <td>A</td>\n",
       "      <td>6540</td>\n",
       "      <td>795</td>\n",
       "      <td>68460000</td>\n",
       "      <td>12.155963</td>\n",
       "      <td>86113.207547</td>\n",
       "      <td>68852</td>\n",
       "      <td>8198</td>\n",
       "      <td>668070000</td>\n",
       "      <td>11.906698</td>\n",
       "      <td>81491.827275</td>\n",
       "    </tr>\n",
       "    <tr>\n",
       "      <th>21</th>\n",
       "      <td>2021-01-12</td>\n",
       "      <td>B</td>\n",
       "      <td>6635</td>\n",
       "      <td>807</td>\n",
       "      <td>70560000</td>\n",
       "      <td>12.162773</td>\n",
       "      <td>87434.944238</td>\n",
       "      <td>69251</td>\n",
       "      <td>8236</td>\n",
       "      <td>727670000</td>\n",
       "      <td>11.892969</td>\n",
       "      <td>88352.355512</td>\n",
       "    </tr>\n",
       "    <tr>\n",
       "      <th>36</th>\n",
       "      <td>2021-01-20</td>\n",
       "      <td>A</td>\n",
       "      <td>6533</td>\n",
       "      <td>749</td>\n",
       "      <td>58710000</td>\n",
       "      <td>11.464871</td>\n",
       "      <td>78384.512684</td>\n",
       "      <td>121506</td>\n",
       "      <td>14561</td>\n",
       "      <td>1179590000</td>\n",
       "      <td>11.983770</td>\n",
       "      <td>81010.232814</td>\n",
       "    </tr>\n",
       "    <tr>\n",
       "      <th>37</th>\n",
       "      <td>2021-01-20</td>\n",
       "      <td>B</td>\n",
       "      <td>6685</td>\n",
       "      <td>790</td>\n",
       "      <td>69250000</td>\n",
       "      <td>11.817502</td>\n",
       "      <td>87658.227848</td>\n",
       "      <td>121857</td>\n",
       "      <td>14496</td>\n",
       "      <td>1286900000</td>\n",
       "      <td>11.895911</td>\n",
       "      <td>88776.214128</td>\n",
       "    </tr>\n",
       "  </tbody>\n",
       "</table>\n",
       "</div>"
      ],
      "text/plain": [
       "         date group  count_visits  count_purchases  sum_price  conversion  \\\n",
       "20 2021-01-12     A          6540              795   68460000   12.155963   \n",
       "21 2021-01-12     B          6635              807   70560000   12.162773   \n",
       "36 2021-01-20     A          6533              749   58710000   11.464871   \n",
       "37 2021-01-20     B          6685              790   69250000   11.817502   \n",
       "\n",
       "      mean_check  cum_users_count  cum_count_purchases  cum_sum_price  \\\n",
       "20  86113.207547            68852                 8198      668070000   \n",
       "21  87434.944238            69251                 8236      727670000   \n",
       "36  78384.512684           121506                14561     1179590000   \n",
       "37  87658.227848           121857                14496     1286900000   \n",
       "\n",
       "    cum_conversion  cum_mean_check  \n",
       "20       11.906698    81491.827275  \n",
       "21       11.892969    88352.355512  \n",
       "36       11.983770    81010.232814  \n",
       "37       11.895911    88776.214128  "
      ]
     },
     "execution_count": 65,
     "metadata": {},
     "output_type": "execute_result"
    }
   ],
   "source": [
    "data_cum['cum_users_count'] = data_cum.groupby(['group'])['count_visits'].cumsum() # кумулятивное количество посещений страницы\n",
    "data_cum['cum_count_purchases'] = data_cum.groupby(['group'])['count_purchases'].cumsum() # кумулятивное количество покупок\n",
    "data_cum['cum_sum_price'] = data_cum.groupby(['group'])['sum_price'].cumsum() # кумулятивная сумма покупок\n",
    "\n",
    "data_cum['cum_conversion'] = data_cum['cum_count_purchases'] / data_cum['cum_users_count'] * 100\n",
    "data_cum['cum_mean_check'] = data_cum['cum_sum_price'] / data_cum['cum_count_purchases']\n",
    "\n",
    "data_cum[(data_cum['date']=='2021-01-20') | (data_cum['date']=='2021-01-12')]\n",
    "# 20 января в группе B кумулятивная конверсия = 11.90\n",
    "# 12 января в группе A кумулятивный средний чек = 81492"
   ]
  },
  {
   "cell_type": "markdown",
   "id": "c252b8ba-371b-4795-8fc3-a62317e9ba39",
   "metadata": {},
   "source": [
    "Постройте кумулятивные графики конверсии и среднего чека в каждой группе по дням. Сделайте выводы. Можно ли назвать A/B-тест завершенным - стабилизировались ли значения метрик во времени? Как соотносятся кумулятивные показатели в каждой группе?"
   ]
  },
  {
   "cell_type": "code",
   "execution_count": 69,
   "id": "27e23d20-7ed6-4a26-973d-6d0320b81adb",
   "metadata": {},
   "outputs": [
    {
     "data": {
      "image/png": "[encoded data removed]",
      "text/plain": [
       "<Figure size 1152x432 with 2 Axes>"
      ]
     },
     "metadata": {
      "needs_background": "light"
     },
     "output_type": "display_data"
    }
   ],
   "source": [
    "\n",
    "fig, axes = plt.subplots(1, 2, figsize=(16, 6))\n",
    "\n",
    "# строим lineplot для кумулятивной конверсии во времени в каждой группе\n",
    "sns.lineplot(x='date', y='cum_conversion', data=data_cum, hue='group', ax=axes[0])\n",
    "# строим lineplot для кумулятивного среднего чека во времени в каждой группе\n",
    "sns.lineplot(x='date', y='cum_mean_check', data=data_cum, hue='group', ax=axes[1])\n",
    "# задаём подпись к графику\n",
    "axes[0].set_title('График кумулятивной конверсии по дням')\n",
    "axes[1].set_title('График кумулятивного среднего чека по дням')\n",
    "# задаём поворот меток на оси абсцисс\n",
    "axes[0].xaxis.set_tick_params(rotation = 45)\n",
    "axes[1].xaxis.set_tick_params(rotation = 45)\n",
    "# задаём отображение сетки\n",
    "axes[0].grid(True)\n",
    "axes[1].grid(True);"
   ]
  },
  {
   "cell_type": "markdown",
   "id": "f645f8e5-ad16-4b3b-8228-fbdeeb286833",
   "metadata": {},
   "source": [
    "Конверсия: с 2021-01-09 прекратилсь резкие скачки, метрики стабилизировались. Конверсия группы A стабильно выше конверсии группы B.  \n",
    "Средний чек: резкий скачки прекратились с 2021-01-13, средний чек группы B выше среднего чека группы A на протяжении всего времени эксперимента."
   ]
  },
  {
   "cell_type": "markdown",
   "id": "2ecaa382-56e2-47f4-b086-24b4742570a3",
   "metadata": {
    "tags": []
   },
   "source": [
    "## **Задание 7.10.**\n",
    "\n",
    "Настало время переходить к проверке статистической значимости разницы между метриками в группах. Начнем с конверсии.\n",
    "\n",
    "Какой тест вы примените для проверки гипотезы о равенстве конверсий в группах?\n",
    "\n",
    "Проведите тестирование при следующих нулевой и альтернативной гипотезе:\n",
    "* $H_0$: Конверсии в группах А и B равны; \n",
    "* $H_1$: Конверсия в группе А больше чем конверсия в группе B;\n",
    "\n",
    "Вычислите p-value вашего теста для конверсий в группах А и B. Сравните полученное значение p-value с уровнем значимости $\\alpha$=0.05. "
   ]
  },
  {
   "cell_type": "code",
   "execution_count": 78,
   "id": "9dd1f6fd-2fa0-4a2f-8181-dbed4c302bce",
   "metadata": {},
   "outputs": [
    {
     "name": "stdout",
     "output_type": "stream",
     "text": [
      "p-value: 0.12\n",
      "Принимаем нулевую гипотезу. Конверсии в группах А и B равны\n"
     ]
    }
   ],
   "source": [
    "# нулевая и альтернативная гипотезы\n",
    "H0 = 'Конверсии в группах А и B равны'\n",
    "H1 = 'Конверсия в группе А больше, чем конверсия в группе B'\n",
    "alpha = 0.05 \n",
    "\n",
    "_, p_value = proportions_ztest(\n",
    "    count=data_group['count_purchases'], #число \"успехов\"\n",
    "    nobs=data_group['count_visits'], #общее число наблюдений\n",
    "    alternative='larger',\n",
    ")\n",
    "print('p-value:', round(p_value, 2))\n",
    " \n",
    "if p_value < alpha:\n",
    "    print(\"Отвергаем нулевую гипотезу. {}\".format(H0))\n",
    "    print(\"Альтернативная гипотеза. H1: {}\".format(H1))\n",
    "else:\n",
    "    print(\"Принимаем нулевую гипотезу. {}\".format(H0))\n"
   ]
  },
  {
   "cell_type": "markdown",
   "id": "da794b48-80e3-47af-aceb-084a1862c86b",
   "metadata": {},
   "source": [
    "Приведите свои выводы по результатам проведенного статистического теста. Есть ли статистическая разница между конверсиями в группах А и B?"
   ]
  },
  {
   "cell_type": "markdown",
   "id": "75dddb06-389d-4d65-92c7-425efa28e51a",
   "metadata": {},
   "source": [
    "p-value больше уровня значимости, значит конверсии в группах A и B равны."
   ]
  },
  {
   "cell_type": "markdown",
   "id": "32c5a1af-8cb2-4f3c-a126-410b70fb3ff3",
   "metadata": {
    "tags": []
   },
   "source": [
    "## **Задание 7.11.**\n",
    "Убедитесь в своих рассуждениях, построив 95%-ый доверительный интервал для конверсий и разницы между ними. Используйте $z_{крит}$ в своих расчетах\n",
    "\n",
    "Укажите нижнюю и верхнюю границы доверительных интервалов. Границы приведите в процентах и округлите до 2 знака после запятой. Например: нижняя граница 89.24%, верхняя граница 91.25%."
   ]
  },
  {
   "cell_type": "code",
   "execution_count": 100,
   "id": "e9decb7d-ff5e-40a6-8b71-63627c4ef64a",
   "metadata": {},
   "outputs": [
    {
     "name": "stdout",
     "output_type": "stream",
     "text": [
      "Доверительный интервал для конверсии группы А: (11.87, 12.2)\n",
      "Доверительный интервал для конверсии группы B: (11.73, 12.06)\n",
      "Доверительный интервал для разности конверсий: (-0.38, 0.09)\n"
     ]
    }
   ],
   "source": [
    "# доверительный интервал пропорции\n",
    "def proportions_conf_interval(n, x_p, gamma=0.95):   \n",
    "    alpha = 1 - gamma # уровень значимости\n",
    "    z_crit = -norm.ppf(alpha/2) # z критическое\n",
    "    eps = z_crit * (x_p * (1 - x_p) / n) ** 0.5 #погрешность\n",
    "    #print(eps)\n",
    "    lower_bound = x_p - eps # левая (нижняя) граница\n",
    "    upper_bound = x_p + eps # правая (верхняя) граница\n",
    "    # возвращаем кортеж из округлённых границ интервала\n",
    "    return round(lower_bound * 100, 2), round(upper_bound * 100, 2)\n",
    "\n",
    "# доверительный интервал разницы пропорций\n",
    "def diff_proportions_conf_interval(n, xp, gamma=0.95):\n",
    "    alpha = 1 - gamma # уровень значимости\n",
    "    diff = xp[1] - xp[0] # выборочная разница конверсий групп B и A\n",
    "    z_crit = -norm.ppf(alpha/2) # z критическое\n",
    "    eps = z_crit * (xp[0] * (1 - xp[0])/n[0] + xp[1] * (1 - xp[1])/n[1]) ** 0.5 # погрешность\n",
    "    lower_bound = diff - eps # левая (нижняя) граница\n",
    "    upper_bound = diff + eps # правая (верхняя) граница\n",
    "    # возвращаем кортеж из округлённых границ интервала\n",
    "    return round(lower_bound *100, 2), round(upper_bound * 100, 2)\n",
    "\n",
    "\n",
    "a_data = updated_data[updated_data['group']=='A']\n",
    "b_data = updated_data[updated_data['group']=='B']\n",
    "\n",
    "conf_interval_a = proportions_conf_interval(\n",
    "n=a_data['user_id'].count(), # размер выборки\n",
    "x_p=a_data['purchase'].mean() # выборочная пропорция\n",
    ")\n",
    "conf_interval_b = proportions_conf_interval(\n",
    "n=b_data['user_id'].count(), # размер выборки\n",
    "x_p=b_data['purchase'].mean() # выборочная пропорция\n",
    ")\n",
    "print('Доверительный интервал для конверсии группы А: {}'.format(conf_interval_a))\n",
    "print('Доверительный интервал для конверсии группы B: {}'.format(conf_interval_b))\n",
    "\n",
    "# размеры выборок групп А и B\n",
    "n = [a_data['user_id'].count(), b_data['user_id'].count()]\n",
    "# выборочная пропорция групп A и B\n",
    "xp = [a_data['purchase'].mean(), b_data['purchase'].mean()]\n",
    "# строим доверительный интервал для разности конверсий\n",
    "diff_inverval = diff_proportions_conf_interval(n, xp)\n",
    "print('Доверительный интервал для разности конверсий: {}'.format(diff_inverval))"
   ]
  },
  {
   "cell_type": "markdown",
   "id": "9332372d-66b2-45e9-a74c-f5d8b1d44afb",
   "metadata": {},
   "source": [
    "Проинтерпретируйте построенные доверительные интервалы для конверсий в группах. Есть ли перекрытие между доверительными интервалами для групп? Есть ли статистическая разница между конверсиями в группах А и B?"
   ]
  },
  {
   "cell_type": "markdown",
   "id": "7f0a52d2",
   "metadata": {},
   "source": [
    "Есть большое пересечение интервалов двух групп, значит, есть вероятность, истинное значение конверсии группы A и группы B может совпасть.  \n",
    "Построив доверительный интервал для разности пропорций, видим, что он охватывает 0, а значит будем считать конверсии группы A и группы B равными.  \n"
   ]
  },
  {
   "cell_type": "markdown",
   "id": "73c54883-b919-4889-bbf2-e1bdeb0b7055",
   "metadata": {},
   "source": [
    "## **Задание 7.12.**\n",
    "\n",
    "Ранее мы построили таблицу с ежедневными показателями. Теперь она нам снова понадобится, так как нас интересует ежедневный средний чек.\n",
    "\n",
    "Проверьте гипотезу о нормальности распределения ежедневного среднего чека в каждой из групп тестирования. \n",
    "\n",
    "* Какой тест вы примените  для проверки гипотезы о нормальности распределения ежедневного среднего чека?\n",
    "* Как будут звучать нулевая и альтернативная гипотезы?\n",
    "* Каковы результаты статистического теста с уровнем значимости $\\alpha$ =0.05?"
   ]
  },
  {
   "cell_type": "code",
   "execution_count": 107,
   "id": "898041ae-de7e-4b74-975e-111d494fbb82",
   "metadata": {},
   "outputs": [
    {
     "name": "stdout",
     "output_type": "stream",
     "text": [
      "p-value группы А 0.25\n",
      "p-value группы B 0.09\n",
      "Принимаем нулевую гипотезу. Распределения в обеих группах нормальные\n"
     ]
    }
   ],
   "source": [
    "H0 = 'Распределения в обеих группах нормальные'\n",
    "H1 = 'Распределение в одной или обеих группах отлично от нормального'\n",
    "alpha = 0.05 # уровень значимости\n",
    "# вычисляем результат теста Шапиро-Уилка для выборок\n",
    "shapiro_result_a = shapiro(data_cum[data_cum['group']=='A']['mean_check'])\n",
    "shapiro_result_b = shapiro(data_cum[data_cum['group']=='B']['mean_check'])\n",
    "print('p-value группы А', round(shapiro_result_a.pvalue, 2))\n",
    "print('p-value группы B', round(shapiro_result_b.pvalue, 2))\n",
    "# сравниваем полученное p-value с уровнем значимости\n",
    "if shapiro_result_a.pvalue < alpha or shapiro_result_b.pvalue < alpha:\n",
    "    print(\"Отвергаем нулевую гипотезу.\")\n",
    "    print(\"Альтернативная гипотеза. H1: {}\".format(H1))\n",
    "else:\n",
    "    print(\"Принимаем нулевую гипотезу. {}\".format(H0))"
   ]
  },
  {
   "cell_type": "markdown",
   "id": "cbddecf9-4d15-4ff1-84e9-46c4d98fc1e0",
   "metadata": {
    "tags": []
   },
   "source": [
    "## **Задание 7.13.**\n",
    "Настало время сравнить варианты дизайна страницы по метрике среднего чека. \n",
    "\n",
    "Какой тест вы примените для проверки гипотезы о равенстве средних чеков по дням в группах?\n",
    "\n",
    "Проведите тестирование при следующих нулевой и альтернативной гипотезе:\n",
    "* $H_0$: Ежедневные средние чеки в группах А и B равны; \n",
    "* $H_1$: Ежедневный средний чек в группе А меньше чем в группе B;\n",
    "\n",
    "Вычислите p-value вашего теста для ежедневного среднего чека в группах А и B. Сравните полученное значение p-value с уровнем значимости $\\alpha$ =0.05. "
   ]
  },
  {
   "cell_type": "code",
   "execution_count": 111,
   "id": "05d43f23-2c2d-4795-bb96-1ffbfe81c391",
   "metadata": {},
   "outputs": [
    {
     "name": "stdout",
     "output_type": "stream",
     "text": [
      "p-value: 0.0\n",
      "Отвергаем нулевую гипотезу. Средний чек в группах одинаковый\n",
      "Альтернативная гипотеза. H1: Средний чек в группе А меньше, чем в группе B\n"
     ]
    }
   ],
   "source": [
    "# нулевая и альтернативная гипотезы\n",
    "H0 = 'Средний чек в группах одинаковый'\n",
    "H1 = 'Средний чек в группе А меньше, чем в группе B'\n",
    "alpha = 0.05 #уровень значимости\n",
    "#вычисляем результат T-теста для выборок\n",
    "results = ttest_ind(\n",
    "    a=data_cum[data_cum['group']=='A']['mean_check'],\n",
    "    b=data_cum[data_cum['group']=='B']['mean_check'], \n",
    "    alternative='less'\n",
    ")\n",
    "print('p-value:', round(results.pvalue, 2))\n",
    " \n",
    "if results.pvalue < alpha:\n",
    "    print(\"Отвергаем нулевую гипотезу. {}\".format(H0))\n",
    "    print(\"Альтернативная гипотеза. H1: {}\".format(H1))\n",
    "else:\n",
    "    print(\"Принимаем нулевую гипотезу. {}\".format(H0))"
   ]
  },
  {
   "cell_type": "markdown",
   "id": "8534ab25-68b8-48f7-b2c1-ef1b72d8a767",
   "metadata": {},
   "source": [
    " Приведите свои выводы по проведенному статистическому тесту. Есть ли статистическая разница между ежедневными средними чеками в группах А и B?"
   ]
  },
  {
   "cell_type": "markdown",
   "id": "4b399b4d",
   "metadata": {},
   "source": [
    "Статистическая разница между ежедневными средними чеками в группах есть, в группе A средний чек меньше."
   ]
  },
  {
   "cell_type": "markdown",
   "id": "5e46c9a6-a943-48b4-ad72-935337469613",
   "metadata": {
    "tags": []
   },
   "source": [
    "## **Задание 7.14.**\n",
    "\n",
    "Постройте 95%-ый доверительный интервал для среднего чека в каждой группе. Так как выборка средних чеков небольшая, используйте  $t_{крит}$ в своих расчетах.\n",
    "\n",
    "Укажите нижнюю границу доверительного интервала для истинного среднего чека каждой из групп. Ответ приведите в процентах и округлите до целого."
   ]
  },
  {
   "cell_type": "code",
   "execution_count": 116,
   "id": "480430db-ffae-4aad-8e22-f5c70d4800b8",
   "metadata": {},
   "outputs": [
    {
     "name": "stdout",
     "output_type": "stream",
     "text": [
      "Доверительный интервал для среднего чека группы A: (79630, 82308)\n",
      "Доверительный интервал для среднего чека группы B: (87626, 89526)\n"
     ]
    }
   ],
   "source": [
    "a=data_cum[data_cum['group']=='A']\n",
    "b=data_cum[data_cum['group']=='B']\n",
    "\n",
    "# расчеты для группы A\n",
    "n = a['mean_check'].count() # размер выборки\n",
    "k = n - 1 # число степеней свободы\n",
    "x_mean = a['mean_check'].mean() # выборочное среднее\n",
    "x_std = a['mean_check'].std() # выборочное стандартное отклонение\n",
    "gamma = 0.95 # уровень надёжности\n",
    "alpha = 1 - gamma # уровень значимости\n",
    "\n",
    "t_crit = -t.ppf(alpha/2, k) # t-критическое\n",
    "eps = t_crit * x_std/(n ** 0.5) # погрешность\n",
    "lower_bound = x_mean - eps # левая (нижняя) граница\n",
    "upper_bound = x_mean + eps # правая (верхняя) граница\n",
    "confidence_interval = (round(lower_bound), round(upper_bound)) # создаём кортеж из округлённых границ интервала\n",
    "print('Доверительный интервал для среднего чека группы A: {}'.format(confidence_interval)) # выводим результат\n",
    "\n",
    "# расчеты для группы B\n",
    "n = b['mean_check'].count() # размер выборки\n",
    "k = n - 1 # число степеней свободы\n",
    "x_mean = b['mean_check'].mean() # выборочное среднее\n",
    "x_std = b['mean_check'].std() # выборочное стандартное отклонение\n",
    "gamma = 0.95 # уровень надёжности\n",
    "alpha = 1 - gamma # уровень значимости\n",
    "\n",
    "t_crit = -t.ppf(alpha/2, k) # t-критическое\n",
    "eps = t_crit * x_std/(n ** 0.5) # погрешность\n",
    "lower_bound = x_mean - eps # левая (нижняя) граница\n",
    "upper_bound = x_mean + eps # правая (верхняя) граница\n",
    "confidence_interval = (round(lower_bound), round(upper_bound)) # создаём кортеж из округлённых границ интервала\n",
    "print('Доверительный интервал для среднего чека группы B: {}'.format(confidence_interval)) # выводим результат"
   ]
  },
  {
   "cell_type": "markdown",
   "id": "74a78db8-48f7-41d2-94cb-faefb30b8f76",
   "metadata": {},
   "source": [
    "Проинтерпретируйте построенные доверительные интервалы для ежедневных средних чеков в группах. Есть ли между ними пересечения?"
   ]
  },
  {
   "cell_type": "markdown",
   "id": "befa8695",
   "metadata": {},
   "source": [
    "Пересечения  между интервалами нет. Видим, что средний чек группы A с вероятностью в 95% всегда меньше среднего чека группы B."
   ]
  },
  {
   "cell_type": "markdown",
   "id": "c078852f-892f-42ed-8d78-73edf8eb1f5e",
   "metadata": {
    "tags": []
   },
   "source": [
    "## **Сделайте общий вывод по результатам A/B-теста**\n",
    "\n",
    "Какой варианта дизайна посадочной страницы является более эффективным в комплексе по метрикам конверсии и среднего чека и почему? "
   ]
  },
  {
   "cell_type": "markdown",
   "id": "a185d99a",
   "metadata": {},
   "source": [
    "По результатам всех проведённых тестов мы видим, что конверсия у обоих групп одинаковая, однако средний чек у группы B больше, чем у группы A. Поэтому можем считать вариант пасадочной страницы B более эффективным по метрике среднего чека."
   ]
  }
 ],
 "metadata": {
  "kernelspec": {
   "display_name": "Python 3 (ipykernel)",
   "language": "python",
   "name": "python3"
  },
  "language_info": {
   "codemirror_mode": {
    "name": "ipython",
    "version": 3
   },
   "file_extension": ".py",
   "mimetype": "text/x-python",
   "name": "python",
   "nbconvert_exporter": "python",
   "pygments_lexer": "ipython3",
   "version": "3.10.0"
  }
 },
 "nbformat": 4,
 "nbformat_minor": 5
}
