{
 "cells": [
  {
   "cell_type": "code",
   "execution_count": 1,
   "metadata": {},
   "outputs": [
    {
     "data": {
      "text/html": [
       "<div>\n",
       "<style scoped>\n",
       "    .dataframe tbody tr th:only-of-type {\n",
       "        vertical-align: middle;\n",
       "    }\n",
       "\n",
       "    .dataframe tbody tr th {\n",
       "        vertical-align: top;\n",
       "    }\n",
       "\n",
       "    .dataframe thead th {\n",
       "        text-align: right;\n",
       "    }\n",
       "</style>\n",
       "<table border=\"1\" class=\"dataframe\">\n",
       "  <thead>\n",
       "    <tr style=\"text-align: right;\">\n",
       "      <th></th>\n",
       "      <th>date</th>\n",
       "      <th>cum_power</th>\n",
       "    </tr>\n",
       "  </thead>\n",
       "  <tbody>\n",
       "    <tr>\n",
       "      <th>0</th>\n",
       "      <td>2017-01-01</td>\n",
       "      <td>20111.0</td>\n",
       "    </tr>\n",
       "    <tr>\n",
       "      <th>1</th>\n",
       "      <td>2017-01-02</td>\n",
       "      <td>20112.0</td>\n",
       "    </tr>\n",
       "    <tr>\n",
       "      <th>2</th>\n",
       "      <td>2017-01-03</td>\n",
       "      <td>20115.0</td>\n",
       "    </tr>\n",
       "    <tr>\n",
       "      <th>3</th>\n",
       "      <td>2017-01-04</td>\n",
       "      <td>20117.0</td>\n",
       "    </tr>\n",
       "    <tr>\n",
       "      <th>4</th>\n",
       "      <td>2017-01-05</td>\n",
       "      <td>20119.0</td>\n",
       "    </tr>\n",
       "  </tbody>\n",
       "</table>\n",
       "</div>"
      ],
      "text/plain": [
       "         date  cum_power\n",
       "0  2017-01-01    20111.0\n",
       "1  2017-01-02    20112.0\n",
       "2  2017-01-03    20115.0\n",
       "3  2017-01-04    20117.0\n",
       "4  2017-01-05    20119.0"
      ]
     },
     "execution_count": 1,
     "metadata": {},
     "output_type": "execute_result"
    }
   ],
   "source": [
    "import pandas as pd\n",
    "\n",
    "solar_data = pd.read_csv('data/solarpower.csv')\n",
    "solar_data.head()"
   ]
  },
  {
   "cell_type": "code",
   "execution_count": 8,
   "metadata": {},
   "outputs": [
    {
     "name": "stderr",
     "output_type": "stream",
     "text": [
      "/var/folders/tp/mcxy8wd524b65_m2_4n493dh0000gn/T/ipykernel_96643/2809492284.py:8: SettingWithCopyWarning: \n",
      "A value is trying to be set on a copy of a slice from a DataFrame\n",
      "\n",
      "See the caveats in the documentation: https://pandas.pydata.org/pandas-docs/stable/user_guide/indexing.html#returning-a-view-versus-a-copy\n",
      "  solar_data['cum_power'].iloc[i] = (solar_data['cum_power'].iloc[i-1]+solar_data['cum_power'].iloc[i+1]) / 2\n"
     ]
    },
    {
     "data": {
      "text/plain": [
       "23848.246987951807"
      ]
     },
     "metadata": {},
     "output_type": "display_data"
    }
   ],
   "source": [
    "# 3.1\n",
    "#В нашем временном ряде есть несколько пропусков, они обозначены числом -1. \n",
    "# Заполните пропуски средним арифметическим между двумя соседними наблюдениями:\n",
    "\n",
    "final = solar_data.shape[0]\n",
    "for i in range(0, final):\n",
    "    if solar_data['cum_power'].iloc[i] == -1:\n",
    "        solar_data['cum_power'].iloc[i] = (solar_data['cum_power'].iloc[i-1]+solar_data['cum_power'].iloc[i+1]) / 2\n",
    "        \n",
    "display(solar_data['cum_power'].mean())\n"
   ]
  },
  {
   "cell_type": "code",
   "execution_count": 19,
   "metadata": {},
   "outputs": [
    {
     "data": {
      "text/plain": [
       "month\n",
       "2017-01     3.129032\n",
       "2017-02     3.714286\n",
       "2017-03    10.774194\n",
       "2017-04    16.300000\n",
       "2017-05    19.000000\n",
       "2017-06    21.500000\n",
       "2017-07    18.129032\n",
       "2017-08    15.064516\n",
       "2017-09    11.533333\n",
       "2017-10     6.419355\n",
       "2017-11     3.233333\n",
       "2017-12     1.161290\n",
       "2018-01     2.064516\n",
       "2018-02     6.928571\n",
       "2018-03     8.709677\n",
       "2018-04    14.633333\n",
       "2018-05    21.032258\n",
       "2018-06    18.766667\n",
       "2018-07    22.000000\n",
       "2018-08    17.096774\n",
       "2018-09    13.866667\n",
       "2018-10     9.000000\n",
       "Freq: M, Name: day_power, dtype: float64"
      ]
     },
     "execution_count": 19,
     "metadata": {},
     "output_type": "execute_result"
    }
   ],
   "source": [
    "# 3.2\n",
    "# Теперь, когда таблица заполнена, создайте столбец day_power — ежедневная выработка солнечной энергии.\n",
    "\n",
    "# Далее создайте данные о средней ежедневной выработке энергии на каждый месяц-год.\n",
    "\n",
    "# Совет: для того чтобы выделить из даты год и месяц, проще всего будет воспользоваться методом аксессора dt.to_period('M'), \n",
    "# который позволяет выделять периоды (в данном случае 'М' — месяц).\n",
    "\n",
    "# Затем сгруппируйте данные по периодам (год-месяц) и рассчитайте среднее в столбце day_power.\n",
    "\n",
    "# Сколько солнечной энергии в среднем в день выработали в марте 2017 года? Ответ округлите до целого.\n",
    "\n",
    "solar_data['date'] = pd.to_datetime(solar_data['date'])\n",
    "# временные сериас, который сохраним потом в столбец\n",
    "day_power = pd.Series(\n",
    "    data = list(range(0,final)),\n",
    "    index = list(range(0,final)),\n",
    "    name = 'day'\n",
    ")\n",
    "#высчитываем ежедневную выработку\n",
    "for i in range(1, final):\n",
    "    day_power.iloc[i] = solar_data['cum_power'].iloc[i] - solar_data['cum_power'].iloc[i-1]\n",
    "    \n",
    "# создаем столбец\n",
    "solar_data['day_power'] = day_power\n",
    "#display(solar_data.head())\n",
    "\n",
    "solar_data['month'] = solar_data['date'].dt.to_period('M')\n",
    "solar_data.groupby(by='month')['day_power'].mean()\n",
    "\n",
    "\n",
    "    "
   ]
  },
  {
   "cell_type": "code",
   "execution_count": 28,
   "metadata": {},
   "outputs": [
    {
     "data": {
      "image/png": "[encoded data removed]",
      "text/plain": [
       "<Figure size 864x288 with 1 Axes>"
      ]
     },
     "metadata": {
      "needs_background": "light"
     },
     "output_type": "display_data"
    }
   ],
   "source": [
    "# 3.3\n",
    "# Постройте график временного ряда — средней ежедневной выработки солнечной энергии на каждый месяц-год. \n",
    "# Не забудьте подписать оси и сам график.\n",
    "import plotly\n",
    "import plotly.express as px\n",
    "\n",
    "line_data = solar_data.groupby(by='month', as_index=False).mean()\n",
    "#display(line_data)\n",
    "# fig = px.line(\n",
    "#     data_frame=line_data, #DataFrame\n",
    "#     x='month', #ось абсцисс\n",
    "#     y=['day_power'], #ось ординат\n",
    "#     height=500, #высота\n",
    "#     width=1000, #ширина\n",
    "#     title='Средняя ежедневная выработка солнечной энергии на каждый месяц-год' #заголовок\n",
    "# )\n",
    "# fig.show()\n",
    "\n",
    "import matplotlib\n",
    "grouped_cases = solar_data.groupby(by='month')['day_power'].mean()\n",
    "grouped_cases.plot(\n",
    "    kind='line',\n",
    "    figsize=(12, 4),\n",
    "    title='Средняя ежедневная выработка солнечной энергии на каждый месяц-год',\n",
    "    grid = True,\n",
    "    lw=3\n",
    ");"
   ]
  }
 ],
 "metadata": {
  "interpreter": {
   "hash": "aee8b7b246df8f9039afb4144a1f6fd8d2ca17a180786b69acc140d282b71a49"
  },
  "kernelspec": {
   "display_name": "Python 3.10.0 64-bit",
   "language": "python",
   "name": "python3"
  },
  "language_info": {
   "codemirror_mode": {
    "name": "ipython",
    "version": 3
   },
   "file_extension": ".py",
   "mimetype": "text/x-python",
   "name": "python",
   "nbconvert_exporter": "python",
   "pygments_lexer": "ipython3",
   "version": "3.10.0"
  },
  "orig_nbformat": 4
 },
 "nbformat": 4,
 "nbformat_minor": 2
}
