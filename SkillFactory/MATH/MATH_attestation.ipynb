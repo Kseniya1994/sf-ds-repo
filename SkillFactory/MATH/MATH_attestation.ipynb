{
 "cells": [
  {
   "cell_type": "code",
   "execution_count": 1,
   "metadata": {},
   "outputs": [
    {
     "name": "stdout",
     "output_type": "stream",
     "text": [
      "2\n"
     ]
    }
   ],
   "source": [
    "# 2 \n",
    "import numpy as np\n",
    "\n",
    "v1 = np.array([2,10,-2])\n",
    "v2 = np.array([3,2,-2])\n",
    "v3 = np.array([8,14,-6])\n",
    "A = np.array([v1, v2, v3]).T\n",
    "print(np.linalg.matrix_rank(A))"
   ]
  },
  {
   "cell_type": "code",
   "execution_count": 5,
   "metadata": {},
   "outputs": [
    {
     "name": "stdout",
     "output_type": "stream",
     "text": [
      "2\n"
     ]
    }
   ],
   "source": [
    "# 3\n",
    "v1 = np.array([4,7,-1])\n",
    "v2 = np.array([-4,2,5])\n",
    "v3 = np.array([0,9,4])\n",
    "A = np.array([v1, v2, v3]).T\n",
    "print(np.linalg.matrix_rank(A))"
   ]
  },
  {
   "cell_type": "code",
   "execution_count": 7,
   "metadata": {},
   "outputs": [
    {
     "data": {
      "text/plain": [
       "array([  0.  ,  72.95, -72.95])"
      ]
     },
     "execution_count": 7,
     "metadata": {},
     "output_type": "execute_result"
    }
   ],
   "source": [
    "# 5\n",
    "import numpy as np\n",
    "A = np.array([[14.3,4.3,18.6],\n",
    "     [21.2,3.1,24.3],\n",
    "     [8.34, 0.36, 8.7],\n",
    "     [15.32, 12.42,27.74]])\n",
    "y = np.array([133.18,178.6, 56.7,145.9]).T\n",
    "#w_hat = np.linalg.inv(A.T@A)@A.T@y\n",
    "#print(w_hat.values)\n",
    "np.linalg.inv(A.T@A)@A.T@y"
   ]
  },
  {
   "cell_type": "code",
   "execution_count": 9,
   "metadata": {},
   "outputs": [
    {
     "name": "stdout",
     "output_type": "stream",
     "text": [
      "1.00000000000000\n",
      "0\n",
      "3.20000000000000\n"
     ]
    }
   ],
   "source": [
    "# 14\n",
    "from sympy import symbols, cos, diff\n",
    "\n",
    "x1,x2,x3 = symbols('x1 x2 x3', real=True)\n",
    "f = 2*x1*x2+3*x1*x2*x3+3*(x1**2)+8*(x3**2)+19\n",
    "\n",
    "dx1 = diff(f, x1)\n",
    "dx2 = diff(f, x2)\n",
    "dx3 = diff(f, x3)\n",
    "print(dx1.subs([(x1,0),(x2,1),(x3,1)])*0.2)\n",
    "print(dx2.subs([(x1,0),(x2,1),(x3,1)])*0.2)\n",
    "print(dx3.subs([(x1,0),(x2,1),(x3,1)])*0.2)"
   ]
  }
 ],
 "metadata": {
  "interpreter": {
   "hash": "aee8b7b246df8f9039afb4144a1f6fd8d2ca17a180786b69acc140d282b71a49"
  },
  "kernelspec": {
   "display_name": "Python 3.10.0 64-bit",
   "language": "python",
   "name": "python3"
  },
  "language_info": {
   "codemirror_mode": {
    "name": "ipython",
    "version": 3
   },
   "file_extension": ".py",
   "mimetype": "text/x-python",
   "name": "python",
   "nbconvert_exporter": "python",
   "pygments_lexer": "ipython3",
   "version": "3.10.0"
  },
  "orig_nbformat": 4
 },
 "nbformat": 4,
 "nbformat_minor": 2
}
