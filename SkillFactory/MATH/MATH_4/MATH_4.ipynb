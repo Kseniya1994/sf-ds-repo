{
 "cells": [
  {
   "cell_type": "markdown",
   "metadata": {},
   "source": [
    "# ОПЕРАЦИИ НАД МНОЖЕСТВАМИ В PYTHON"
   ]
  },
  {
   "cell_type": "markdown",
   "metadata": {},
   "source": [
    "Для тренировки создадим два множества:\n",
    "\n",
    "* Во множестве  будут храниться уникальные ID клиентов компании, которые пользуются мобильной связью.\n",
    "* Во множестве  — уникальные ID клиентов компании, которые используют домашний интернет."
   ]
  },
  {
   "cell_type": "code",
   "execution_count": 1,
   "metadata": {},
   "outputs": [],
   "source": [
    "A = {'ID453', 'ID312', 'ID41', 'ID3', 'ID500', 'ID920', 'ID36', 'ID27'}\n",
    "B = {'ID41', 'ID36', 'ID27', 'ID124', 'ID7', 'ID501', 'ID91' }"
   ]
  },
  {
   "cell_type": "markdown",
   "metadata": {},
   "source": [
    "### ОБЪЕДИНЕНИЕ МНОЖЕСТВ"
   ]
  },
  {
   "cell_type": "code",
   "execution_count": 2,
   "metadata": {},
   "outputs": [
    {
     "name": "stdout",
     "output_type": "stream",
     "text": [
      "{'ID920', 'ID453', 'ID312', 'ID500', 'ID91', 'ID124', 'ID3', 'ID41', 'ID7', 'ID27', 'ID501', 'ID36'}\n"
     ]
    }
   ],
   "source": [
    "union_AB = A.union(B)\n",
    "print(union_AB)\n",
    "#{'ID500', 'ID27', 'ID41', 'ID3', 'ID501', 'ID453', 'ID312', 'ID124', 'ID920', 'ID91', 'ID7', 'ID36'}"
   ]
  },
  {
   "cell_type": "code",
   "execution_count": 3,
   "metadata": {},
   "outputs": [
    {
     "name": "stdout",
     "output_type": "stream",
     "text": [
      "{'ID920', 'ID453', 'ID312', 'ID500', 'ID91', 'ID124', 'ID3', 'ID41', 'ID7', 'ID27', 'ID501', 'ID36'}\n"
     ]
    }
   ],
   "source": [
    "# Метод union() можно заменить простой вертикальной чертой:\n",
    "\n",
    "union_AB = A | B\n",
    "print(union_AB)\n",
    "#{'ID500', 'ID27', 'ID41', 'ID3', 'ID501', 'ID453', 'ID312', 'ID124', 'ID920', 'ID91', 'ID7', 'ID36'}"
   ]
  },
  {
   "cell_type": "markdown",
   "metadata": {},
   "source": [
    "### ПЕРЕСЕЧЕНИЕ МНОЖЕСТВ"
   ]
  },
  {
   "cell_type": "code",
   "execution_count": 4,
   "metadata": {},
   "outputs": [
    {
     "name": "stdout",
     "output_type": "stream",
     "text": [
      "{'ID27', 'ID41', 'ID36'}\n"
     ]
    }
   ],
   "source": [
    "inter_AB = A.intersection(B)\n",
    "print(inter_AB)\n",
    "#{'ID27', 'ID41', 'ID36'}"
   ]
  },
  {
   "cell_type": "code",
   "execution_count": 5,
   "metadata": {},
   "outputs": [
    {
     "name": "stdout",
     "output_type": "stream",
     "text": [
      "{'ID27', 'ID41', 'ID36'}\n"
     ]
    }
   ],
   "source": [
    "# Также мы можем заменить метод intersection() на амперсанд (&) — результат будет идентичным:\n",
    "\n",
    "inter_AB = A & B\n",
    "print(inter_AB)\n",
    "#{'ID27', 'ID41', 'ID36'}"
   ]
  },
  {
   "cell_type": "markdown",
   "metadata": {},
   "source": [
    "### РАЗНОСТЬ МНОЖЕСТВ"
   ]
  },
  {
   "cell_type": "code",
   "execution_count": 6,
   "metadata": {},
   "outputs": [
    {
     "name": "stdout",
     "output_type": "stream",
     "text": [
      "{'ID920', 'ID453', 'ID500', 'ID312', 'ID3'}\n"
     ]
    }
   ],
   "source": [
    "diff_AB = A.difference(B)\n",
    "print(diff_AB)\n",
    "#{'ID500', 'ID3', 'ID453', 'ID312', 'ID920'}"
   ]
  },
  {
   "cell_type": "code",
   "execution_count": 7,
   "metadata": {},
   "outputs": [
    {
     "name": "stdout",
     "output_type": "stream",
     "text": [
      "{'ID920', 'ID453', 'ID500', 'ID312', 'ID3'}\n"
     ]
    }
   ],
   "source": [
    "# Здесь также есть вариант замены метода символом — в данном случае это знак «минус»:\n",
    "\n",
    "diff_AB = A - B\n",
    "print(diff_AB)\n",
    "#{'ID500', 'ID3', 'ID453', 'ID312', 'ID920'}"
   ]
  },
  {
   "cell_type": "markdown",
   "metadata": {},
   "source": [
    "### СИММЕТРИЧЕСКАЯ РАЗНОСТЬ"
   ]
  },
  {
   "cell_type": "code",
   "execution_count": 8,
   "metadata": {},
   "outputs": [
    {
     "name": "stdout",
     "output_type": "stream",
     "text": [
      "{'ID91', 'ID453', 'ID312', 'ID500', 'ID7', 'ID920', 'ID124', 'ID3', 'ID501'}\n",
      "{'ID91', 'ID453', 'ID312', 'ID500', 'ID7', 'ID920', 'ID124', 'ID3', 'ID501'}\n"
     ]
    }
   ],
   "source": [
    "symmAB = A.symmetric_difference(B)\n",
    "print(symmAB)\n",
    "#{ID124', 'ID91', 'ID7', 'ID312', 'ID500', 'ID453', 'ID3', 'ID501', 'ID920'}\n",
    "\n",
    "\n",
    "symmAB = A ^ B\n",
    "print(symmAB)\n",
    "#{ID124', 'ID91', 'ID7', 'ID312', 'ID500', 'ID453', 'ID3', 'ID501', 'ID920'}"
   ]
  },
  {
   "cell_type": "markdown",
   "metadata": {},
   "source": [
    "# БИБЛИОТЕКА SYMPY, СИМВОЛЬНЫЕ ВЫЧИСЛЕНИЯ И МНОЖЕСТВА"
   ]
  },
  {
   "cell_type": "markdown",
   "metadata": {},
   "source": [
    "С её помощью можно работать и со множествами. Для этого нам необходимо импортировать из неё функцию FiniteSet, а объединение обозначается уже знакомой нам функцией Union:"
   ]
  },
  {
   "cell_type": "code",
   "execution_count": 11,
   "metadata": {},
   "outputs": [
    {
     "data": {
      "text/latex": [
       "$\\displaystyle \\left\\{1, 3, 7, 9, 10\\right\\}$"
      ],
      "text/plain": [
       "{1, 3, 7, 9, 10}"
      ]
     },
     "execution_count": 11,
     "metadata": {},
     "output_type": "execute_result"
    }
   ],
   "source": [
    "from sympy import FiniteSet, Union\n",
    "l1 = [1, 3, 7, 10] \n",
    "l2 = [9, 7, 1] \n",
    "a = FiniteSet(*l1) \n",
    "b = FiniteSet(*l2) \n",
    "Union(a, b)"
   ]
  },
  {
   "cell_type": "code",
   "execution_count": 12,
   "metadata": {},
   "outputs": [
    {
     "data": {
      "text/latex": [
       "$\\displaystyle \\left\\{x\\; \\middle|\\; x \\in \\left[2, 9\\right] \\wedge x^{2} - 5 x = 0 \\right\\}$"
      ],
      "text/plain": [
       "ConditionSet(x, Eq(x**2 - 5*x, 0), Interval(2, 9))"
      ]
     },
     "execution_count": 12,
     "metadata": {},
     "output_type": "execute_result"
    }
   ],
   "source": [
    "# Также с помощью этой библиотеки можно задать множество не прямым перечислением элементов, \n",
    "# а с помощью условий и математических выражений (это то, о чём мы говорили ранее). \n",
    "# Интересно то, что мы получим не прямое перечисление элементов, а именно математическую запись.\n",
    "\n",
    "from sympy import ConditionSet, Eq, Symbol, Interval\n",
    "x=Symbol('x')\n",
    "s=ConditionSet(x, Eq(x**2-5*x,0), Interval(2,9))\n",
    "s"
   ]
  },
  {
   "cell_type": "markdown",
   "metadata": {},
   "source": [
    "УСЛОВИЕ ДЛЯ ЗАДАНИЙ 2.6-2.8\n",
    "\n",
    "Представьте, что вы являетесь куратором образовательной программы, на которой будет два вебинара: по программированию и по машинному обучению.  \n",
    "\n",
    "На вебинар по программированию записались потенциальные слушатели со следующими электронными адресами:  \n",
    "  \n",
    "* bennet@xyz.com\n",
    "* darcy@abc.com\n",
    "* margaret@xyz.com\n",
    "* pa@hhh.com\n",
    "* marimari@xyz.com\n",
    "* mallika@yahoo.com\n",
    "* abc@xyz.com\n",
    "* 0071235@gmail.ru    \n",
    "  \n",
    "На вебинар по машинному обучению записались потенциальные слушатели со следующими электронными адресами:  \n",
    "\n",
    "* marimari@xyz.com\n",
    "* darcy@abc.com\n",
    "* 0071235@gmail.ru\n",
    "* darcy@abc.com\n",
    "* petr44@xyz.com\n",
    "* katrin@ya.com  \n",
    "Оформите множества в Python для обоих списков слушателей.  "
   ]
  },
  {
   "cell_type": "code",
   "execution_count": 16,
   "metadata": {},
   "outputs": [],
   "source": [
    "prog = {'bennet@xyz.com',\n",
    "'darcy@abc.com',\n",
    "'margaret@xyz.com',\n",
    "'pa@hhh.com',\n",
    "'marimari@xyz.com',\n",
    "'mallika@yahoo.com',\n",
    "'abc@xyz.com',\n",
    "'0071235@gmail.ru'}\n",
    "\n",
    "ml = {'marimari@xyz.com',\n",
    "'darcy@abc.com',\n",
    "'0071235@gmail.ru',\n",
    "'darcy@abc.com',\n",
    "'petr44@xyz.com',\n",
    "'katrin@ya.com'}"
   ]
  },
  {
   "cell_type": "code",
   "execution_count": 18,
   "metadata": {},
   "outputs": [
    {
     "data": {
      "text/plain": [
       "3"
      ]
     },
     "execution_count": 18,
     "metadata": {},
     "output_type": "execute_result"
    }
   ],
   "source": [
    "# 2.6\n",
    "# С помощью операций множеств в Python определите, сколько слушателей записалось на оба вебинара.\n",
    "\n",
    "len(prog.intersection(ml))"
   ]
  },
  {
   "cell_type": "code",
   "execution_count": 21,
   "metadata": {},
   "outputs": [
    {
     "data": {
      "text/plain": [
       "10"
      ]
     },
     "execution_count": 21,
     "metadata": {},
     "output_type": "execute_result"
    }
   ],
   "source": [
    "# 2.7\n",
    "# Сколько человек заинтересованы в посещении хотя бы одного вебинара?\n",
    "len(prog.union(ml))"
   ]
  },
  {
   "cell_type": "code",
   "execution_count": 22,
   "metadata": {},
   "outputs": [
    {
     "data": {
      "text/plain": [
       "7"
      ]
     },
     "execution_count": 22,
     "metadata": {},
     "output_type": "execute_result"
    }
   ],
   "source": [
    "# 2.8\n",
    "# Сколько человек заинтересованы в посещении только одного вебинара из двух?\n",
    "len(prog.symmetric_difference(ml))"
   ]
  },
  {
   "cell_type": "markdown",
   "metadata": {},
   "source": [
    "# 4. Исследование функции"
   ]
  },
  {
   "cell_type": "markdown",
   "metadata": {},
   "source": [
    "### ОБЛАСТЬ ОПРЕДЕЛЕНИЯ ФУНКЦИИ"
   ]
  },
  {
   "cell_type": "code",
   "execution_count": 23,
   "metadata": {},
   "outputs": [
    {
     "data": {
      "text/latex": [
       "$\\displaystyle \\left(-\\infty, 0\\right) \\cup \\left(0, \\infty\\right)$"
      ],
      "text/plain": [
       "Union(Interval.open(-oo, 0), Interval.open(0, oo))"
      ]
     },
     "execution_count": 23,
     "metadata": {},
     "output_type": "execute_result"
    }
   ],
   "source": [
    "from sympy import Symbol, S #импортируем нужные функции для обозначения переменных\n",
    "from sympy.calculus.util import function_range #импортируем функцию для поиска области значения\n",
    "from sympy.calculus.util import continuous_domain #импортируем функцию для поиска области определения\n",
    "x = Symbol(\"x\") #определяем нашу переменную\n",
    "f = 1/x #определяем нашу функцию\n",
    "continuous_domain(f, x, S.Reals) #вычисляем область определения"
   ]
  },
  {
   "cell_type": "code",
   "execution_count": 24,
   "metadata": {},
   "outputs": [
    {
     "data": {
      "text/latex": [
       "$\\displaystyle \\left(0, \\infty\\right)$"
      ],
      "text/plain": [
       "Interval.open(0, oo)"
      ]
     },
     "execution_count": 24,
     "metadata": {},
     "output_type": "execute_result"
    }
   ],
   "source": [
    "from sympy import log\n",
    "x = Symbol(\"x\")\n",
    "f = log(x)/x\n",
    "continuous_domain(f, x, S.Reals)"
   ]
  },
  {
   "cell_type": "markdown",
   "metadata": {},
   "source": [
    "### ОБЛАСТЬ ЗНАЧЕНИЙ ФУНКЦИИ"
   ]
  },
  {
   "cell_type": "code",
   "execution_count": 28,
   "metadata": {},
   "outputs": [
    {
     "data": {
      "text/latex": [
       "$\\displaystyle \\left[-1, 1\\right]$"
      ],
      "text/plain": [
       "Interval(-1, 1)"
      ]
     },
     "execution_count": 28,
     "metadata": {},
     "output_type": "execute_result"
    }
   ],
   "source": [
    "from sympy.calculus.util import function_range\n",
    "from sympy import sin\n",
    "x = Symbol(\"x\") \n",
    "f = sin(x) \n",
    "function_range(f, x, S.Reals)"
   ]
  },
  {
   "cell_type": "code",
   "execution_count": 29,
   "metadata": {},
   "outputs": [
    {
     "data": {
      "text/latex": [
       "$\\displaystyle \\left[- 2 e, \\infty\\right)$"
      ],
      "text/plain": [
       "Interval(-2*E, oo)"
      ]
     },
     "execution_count": 29,
     "metadata": {},
     "output_type": "execute_result"
    }
   ],
   "source": [
    "from sympy import Symbol, S #импортируем нужные функции для обозначения переменных\n",
    "from sympy.calculus.util import function_range #импортируем функцию для поиска области значений\n",
    "from sympy import exp #добавляем функцию для вычисления экспоненциальной функции\n",
    "x = Symbol(\"x\")\n",
    "f = (x*x-3)/(exp(x))\n",
    "function_range(f, x, S.Reals)"
   ]
  },
  {
   "cell_type": "markdown",
   "metadata": {},
   "source": [
    "### ТОЧКИ ПЕРЕСЕЧЕНИЯ С ОСЯМИ АБСЦИСС И ОРДИНАТ"
   ]
  },
  {
   "cell_type": "code",
   "execution_count": 31,
   "metadata": {},
   "outputs": [
    {
     "data": {
      "text/latex": [
       "$\\displaystyle 4$"
      ],
      "text/plain": [
       "4"
      ]
     },
     "execution_count": 31,
     "metadata": {},
     "output_type": "execute_result"
    }
   ],
   "source": [
    "# Сначала найдём точку пересечения с осью ординат. Для этого просто подставим 0 вместо значения x:\n",
    "x = Symbol(\"x\")\n",
    "f = x*x+5*x+4\n",
    "f.subs(x, 0)"
   ]
  },
  {
   "cell_type": "code",
   "execution_count": 32,
   "metadata": {},
   "outputs": [
    {
     "data": {
      "text/latex": [
       "$\\displaystyle \\left\\{-4, -1\\right\\}$"
      ],
      "text/plain": [
       "{-4, -1}"
      ]
     },
     "execution_count": 32,
     "metadata": {},
     "output_type": "execute_result"
    }
   ],
   "source": [
    "# Теперь найдём точку пересечения с осью абсцисс. Для этого решим уравнение, в котором приравняем нашу функцию к нулю:\n",
    "\n",
    "from sympy import solveset, Eq\n",
    "solveset(Eq(x*x+5*x+4, 0), x)"
   ]
  },
  {
   "cell_type": "markdown",
   "metadata": {},
   "source": [
    "### ИССЛЕДОВАНИЕ ФУНКЦИИ НА ЧЁТНОСТЬ И НЕЧЁТНОСТЬ"
   ]
  },
  {
   "cell_type": "code",
   "execution_count": 34,
   "metadata": {},
   "outputs": [
    {
     "data": {
      "text/latex": [
       "$\\displaystyle \\left\\{-4, 2\\right\\}$"
      ],
      "text/plain": [
       "{-4, 2}"
      ]
     },
     "execution_count": 34,
     "metadata": {},
     "output_type": "execute_result"
    }
   ],
   "source": [
    "# 4.6\n",
    "# Найдите координаты пересечения с осью x для функции : y = x^2+2-8\n",
    "\n",
    "x = Symbol(\"x\")\n",
    "solveset(Eq(x*x+2*x-8, 0), x)\n"
   ]
  },
  {
   "cell_type": "code",
   "execution_count": 35,
   "metadata": {},
   "outputs": [
    {
     "data": {
      "text/latex": [
       "$\\displaystyle \\left(-\\infty, - \\frac{3}{10}\\right] \\cup \\left(0, \\infty\\right)$"
      ],
      "text/plain": [
       "Union(Interval(-oo, -3/10), Interval.open(0, oo))"
      ]
     },
     "execution_count": 35,
     "metadata": {},
     "output_type": "execute_result"
    }
   ],
   "source": [
    "# 4.7\n",
    "# Найдите область значений для функции\n",
    "# Для решения задачи воспользуйтесь библиотекой SymPy.\n",
    "\n",
    "x = Symbol(\"x\") \n",
    "f = 3/(x*x - 10)\n",
    "function_range(f, x, S.Reals)"
   ]
  },
  {
   "cell_type": "markdown",
   "metadata": {},
   "source": [
    "# 6. Вычисление производных"
   ]
  },
  {
   "cell_type": "code",
   "execution_count": 36,
   "metadata": {},
   "outputs": [
    {
     "data": {
      "text/latex": [
       "$\\displaystyle 4 x^{3} + 9 x^{2} + 8 x$"
      ],
      "text/plain": [
       "4*x**3 + 9*x**2 + 8*x"
      ]
     },
     "execution_count": 36,
     "metadata": {},
     "output_type": "execute_result"
    }
   ],
   "source": [
    "import sympy\n",
    "x = sympy.Symbol(\"x\")\n",
    "expr = x**4 + 3*x**3 + 4*x**2 + 8\n",
    "expr.diff(x)"
   ]
  },
  {
   "cell_type": "code",
   "execution_count": 37,
   "metadata": {},
   "outputs": [
    {
     "data": {
      "text/latex": [
       "$\\displaystyle \\frac{2 x + 5}{x^{2} + 5 x} + e^{\\sin{\\left(x \\right)}} \\cos{\\left(x \\right)}$"
      ],
      "text/plain": [
       "(2*x + 5)/(x**2 + 5*x) + exp(sin(x))*cos(x)"
      ]
     },
     "execution_count": 37,
     "metadata": {},
     "output_type": "execute_result"
    }
   ],
   "source": [
    "import sympy\n",
    "from sympy import diff, sin, exp, log, Symbol\n",
    "x = sympy.Symbol(\"x\")\n",
    "expr = log(x**2 + 5*x) + exp(sin(x))\n",
    "expr.diff(x)"
   ]
  },
  {
   "cell_type": "markdown",
   "metadata": {},
   "source": [
    "### ВЫЧИСЛЕНИЕ ВТОРОЙ ПРОИЗВОДНОЙ"
   ]
  },
  {
   "cell_type": "code",
   "execution_count": 38,
   "metadata": {},
   "outputs": [
    {
     "data": {
      "text/latex": [
       "$\\displaystyle - e^{\\sin{\\left(x \\right)}} \\sin{\\left(x \\right)} + e^{\\sin{\\left(x \\right)}} \\cos^{2}{\\left(x \\right)} + \\frac{2}{x \\left(x + 5\\right)} - \\frac{\\left(2 x + 5\\right)^{2}}{x^{2} \\left(x + 5\\right)^{2}}$"
      ],
      "text/plain": [
       "-exp(sin(x))*sin(x) + exp(sin(x))*cos(x)**2 + 2/(x*(x + 5)) - (2*x + 5)**2/(x**2*(x + 5)**2)"
      ]
     },
     "execution_count": 38,
     "metadata": {},
     "output_type": "execute_result"
    }
   ],
   "source": [
    "import sympy\n",
    "from sympy import diff, sin,exp, log, Symbol\n",
    "x = sympy.Symbol(\"x\")\n",
    "expr = log(x**2 + 5*x) + exp(sin(x))\n",
    "expr.diff(x,2)"
   ]
  },
  {
   "cell_type": "code",
   "execution_count": 42,
   "metadata": {},
   "outputs": [
    {
     "data": {
      "text/latex": [
       "$\\displaystyle - \\frac{2 x^{2}}{\\left(x^{2} + 1\\right)^{2}} + \\frac{1}{x^{2} + 1}$"
      ],
      "text/plain": [
       "-2*x**2/(x**2 + 1)**2 + 1/(x**2 + 1)"
      ]
     },
     "execution_count": 42,
     "metadata": {},
     "output_type": "execute_result"
    }
   ],
   "source": [
    "# 6.11\n",
    "# Вычислите производную функции  в точке :\n",
    "x = sympy.Symbol(\"x\")\n",
    "expr = x/(x**2 +1)\n",
    "d = expr.diff(x)\n",
    "d"
   ]
  },
  {
   "cell_type": "code",
   "execution_count": 46,
   "metadata": {},
   "outputs": [
    {
     "data": {
      "text/latex": [
       "$\\displaystyle \\frac{1.0 x}{\\left(x^{2} + 1\\right)^{0.5}}$"
      ],
      "text/plain": [
       "1.0*x/(x**2 + 1)**0.5"
      ]
     },
     "execution_count": 46,
     "metadata": {},
     "output_type": "execute_result"
    }
   ],
   "source": [
    "# 6.12\n",
    "import numpy as np\n",
    "x = sympy.Symbol(\"x\")\n",
    "y = ((x**2+1))**(1/2)\n",
    "y.diff(x)\n"
   ]
  },
  {
   "cell_type": "code",
   "execution_count": 48,
   "metadata": {},
   "outputs": [
    {
     "data": {
      "text/latex": [
       "$\\displaystyle 12 x^{2}$"
      ],
      "text/plain": [
       "12*x**2"
      ]
     },
     "execution_count": 48,
     "metadata": {},
     "output_type": "execute_result"
    }
   ],
   "source": [
    "# 6.13\n",
    "x = sympy.Symbol(\"x\")\n",
    "y = x**4 + 5*x\n",
    "y.diff(x,2)"
   ]
  },
  {
   "cell_type": "markdown",
   "metadata": {},
   "source": [
    "# 8. Практика: исследование функции с помощью производных"
   ]
  },
  {
   "cell_type": "code",
   "execution_count": 52,
   "metadata": {},
   "outputs": [
    {
     "data": {
      "text/latex": [
       "$\\displaystyle \\frac{x^{3}}{x^{2} - 1}$"
      ],
      "text/plain": [
       "x**3/(x**2 - 1)"
      ]
     },
     "execution_count": 52,
     "metadata": {},
     "output_type": "execute_result"
    }
   ],
   "source": [
    "from sympy import Symbol, S\n",
    "x = Symbol(\"x\") \n",
    "f = (x**3)/(x**2-1) \n",
    "f"
   ]
  },
  {
   "cell_type": "markdown",
   "metadata": {},
   "source": [
    "### ОБЛАСТЬ ОПРЕДЕЛЕНИЯ"
   ]
  },
  {
   "cell_type": "code",
   "execution_count": 53,
   "metadata": {},
   "outputs": [
    {
     "data": {
      "text/latex": [
       "$\\displaystyle \\left(-\\infty, -1\\right) \\cup \\left(-1, 1\\right) \\cup \\left(1, \\infty\\right)$"
      ],
      "text/plain": [
       "Union(Interval.open(-oo, -1), Interval.open(-1, 1), Interval.open(1, oo))"
      ]
     },
     "execution_count": 53,
     "metadata": {},
     "output_type": "execute_result"
    }
   ],
   "source": [
    "from sympy.calculus.util import continuous_domain \n",
    "continuous_domain(f, x, S.Reals)"
   ]
  },
  {
   "cell_type": "markdown",
   "metadata": {},
   "source": [
    "### ОБЛАСТЬ ЗНАЧЕНИЙ ФУНКЦИИ"
   ]
  },
  {
   "cell_type": "code",
   "execution_count": 54,
   "metadata": {},
   "outputs": [
    {
     "data": {
      "text/latex": [
       "$\\displaystyle \\left(-\\infty, \\infty\\right)$"
      ],
      "text/plain": [
       "Interval(-oo, oo)"
      ]
     },
     "execution_count": 54,
     "metadata": {},
     "output_type": "execute_result"
    }
   ],
   "source": [
    "from sympy import Symbol, S\n",
    "from sympy.calculus.util import function_range\n",
    "x = Symbol(\"x\") \n",
    "f = (x**3)/(x**2-1) \n",
    "function_range(f, x, S.Reals)"
   ]
  },
  {
   "cell_type": "markdown",
   "metadata": {},
   "source": [
    "### ТОЧКИ ПЕРЕСЕЧЕНИЯ С ОСЯМИ КООРДИНАТ"
   ]
  },
  {
   "cell_type": "code",
   "execution_count": 55,
   "metadata": {},
   "outputs": [
    {
     "data": {
      "text/latex": [
       "$\\displaystyle \\left\\{0\\right\\}$"
      ],
      "text/plain": [
       "{0}"
      ]
     },
     "execution_count": 55,
     "metadata": {},
     "output_type": "execute_result"
    }
   ],
   "source": [
    "from sympy import solveset, Eq\n",
    "f = (x**3)/(x**2-1) \n",
    "solveset(Eq(f, 0), x)"
   ]
  },
  {
   "cell_type": "code",
   "execution_count": 56,
   "metadata": {},
   "outputs": [
    {
     "data": {
      "text/latex": [
       "$\\displaystyle 0$"
      ],
      "text/plain": [
       "0"
      ]
     },
     "execution_count": 56,
     "metadata": {},
     "output_type": "execute_result"
    }
   ],
   "source": [
    "x = Symbol(\"x\")\n",
    "f = (x**3)/(x**2-1)\n",
    "f.subs(x, 0)"
   ]
  },
  {
   "cell_type": "markdown",
   "metadata": {},
   "source": [
    "### ИССЛЕДОВАНИЕ ФУНКЦИИ НА ЧЁТНОСТЬ И НЕЧЁТНОСТЬ"
   ]
  },
  {
   "cell_type": "markdown",
   "metadata": {},
   "source": [
    "Подставим в функцию вместо аргумента x аргумент -x и посмотрим, как она изменится"
   ]
  },
  {
   "cell_type": "markdown",
   "metadata": {},
   "source": [
    "### НАХОЖДЕНИЕ ТОЧЕК ЭКСТРЕМУМА, ОБЛАСТЕЙ ВОЗРАСТАНИЯ И УБЫВАНИЯ"
   ]
  },
  {
   "cell_type": "code",
   "execution_count": 57,
   "metadata": {},
   "outputs": [
    {
     "data": {
      "text/latex": [
       "$\\displaystyle - \\frac{2 x^{4}}{\\left(x^{2} - 1\\right)^{2}} + \\frac{3 x^{2}}{x^{2} - 1}$"
      ],
      "text/plain": [
       "-2*x**4/(x**2 - 1)**2 + 3*x**2/(x**2 - 1)"
      ]
     },
     "execution_count": 57,
     "metadata": {},
     "output_type": "execute_result"
    }
   ],
   "source": [
    "import sympy\n",
    "from sympy import diff\n",
    "x = sympy.Symbol(\"x\")\n",
    "expr = (x**3)/(x**2-1)\n",
    "expr.diff(x)"
   ]
  },
  {
   "cell_type": "code",
   "execution_count": 59,
   "metadata": {},
   "outputs": [
    {
     "data": {
      "text/latex": [
       "$\\displaystyle \\left\\{0, - \\sqrt{3}, \\sqrt{3}\\right\\}$"
      ],
      "text/plain": [
       "{0, -sqrt(3), sqrt(3)}"
      ]
     },
     "execution_count": 59,
     "metadata": {},
     "output_type": "execute_result"
    }
   ],
   "source": [
    "y = expr.diff(x)\n",
    "solveset(Eq(y, 0), x)"
   ]
  },
  {
   "cell_type": "markdown",
   "metadata": {},
   "source": [
    "### ИССЛЕДОВАНИЕ ФУНКЦИИ НА ВЫПУКЛОСТИ"
   ]
  },
  {
   "cell_type": "code",
   "execution_count": 60,
   "metadata": {},
   "outputs": [
    {
     "data": {
      "text/latex": [
       "$\\displaystyle \\frac{2 x \\left(\\frac{x^{2} \\cdot \\left(\\frac{4 x^{2}}{x^{2} - 1} - 1\\right)}{x^{2} - 1} - \\frac{6 x^{2}}{x^{2} - 1} + 3\\right)}{x^{2} - 1}$"
      ],
      "text/plain": [
       "2*x*(x**2*(4*x**2/(x**2 - 1) - 1)/(x**2 - 1) - 6*x**2/(x**2 - 1) + 3)/(x**2 - 1)"
      ]
     },
     "execution_count": 60,
     "metadata": {},
     "output_type": "execute_result"
    }
   ],
   "source": [
    "import sympy\n",
    "from sympy import diff\n",
    "x = sympy.Symbol(\"x\")\n",
    "expr = (x**3)/(x**2-1)\n",
    "expr.diff(x,2)"
   ]
  },
  {
   "cell_type": "code",
   "execution_count": 61,
   "metadata": {},
   "outputs": [
    {
     "data": {
      "text/latex": [
       "$\\displaystyle \\left\\{0, - \\sqrt{3} i, \\sqrt{3} i\\right\\}$"
      ],
      "text/plain": [
       "{0, -sqrt(3)*I, sqrt(3)*I}"
      ]
     },
     "execution_count": 61,
     "metadata": {},
     "output_type": "execute_result"
    }
   ],
   "source": [
    "y = expr.diff(x,2)\n",
    "solveset(Eq(y, 0), x)"
   ]
  },
  {
   "cell_type": "markdown",
   "metadata": {},
   "source": [
    "### НАХОЖДЕНИЕ АСИМПТОТ ГРАФИКА"
   ]
  },
  {
   "cell_type": "code",
   "execution_count": 62,
   "metadata": {},
   "outputs": [
    {
     "data": {
      "text/latex": [
       "$\\displaystyle \\infty$"
      ],
      "text/plain": [
       "oo"
      ]
     },
     "execution_count": 62,
     "metadata": {},
     "output_type": "execute_result"
    }
   ],
   "source": [
    "# ГОРИЗОНТАЛЬНАЯ АСИМПТОТА\n",
    "\n",
    "from sympy import Symbol, limit, oo\n",
    "x = Symbol(\"x\")\n",
    "f = (x**3)/(x**2-1)\n",
    "limit(f,x,oo)\n",
    "\n",
    "# Получаем  — значит, горизонтальной асимптоты нет (по сути, здесь мы всегда получаем значение  для функции )."
   ]
  },
  {
   "cell_type": "code",
   "execution_count": 63,
   "metadata": {},
   "outputs": [
    {
     "data": {
      "text/latex": [
       "$\\displaystyle \\infty$"
      ],
      "text/plain": [
       "oo"
      ]
     },
     "execution_count": 63,
     "metadata": {},
     "output_type": "execute_result"
    }
   ],
   "source": [
    "# ВЕРТИКАЛЬНАЯ АСИМПТОТА\n",
    "\n",
    "# В качестве вертикальных асимптот могут выступать точки, не вошедшие в область определения. \n",
    "# Если предел функции в них равен бесконечности, то они являются асимптотами. Проверим:\n",
    "\n",
    "from sympy import Symbol, limit, oo\n",
    "x = Symbol(\"x\")\n",
    "f = (x**3)/(x**2-1)\n",
    "limit(f,x,1)"
   ]
  },
  {
   "cell_type": "code",
   "execution_count": 64,
   "metadata": {},
   "outputs": [
    {
     "data": {
      "text/latex": [
       "$\\displaystyle \\infty$"
      ],
      "text/plain": [
       "oo"
      ]
     },
     "execution_count": 64,
     "metadata": {},
     "output_type": "execute_result"
    }
   ],
   "source": [
    "from sympy import Symbol, limit, oo\n",
    "x = Symbol(\"x\")\n",
    "f = (x**3)/(x**2-1)\n",
    "limit(f,x,-1)"
   ]
  },
  {
   "cell_type": "code",
   "execution_count": 65,
   "metadata": {},
   "outputs": [
    {
     "data": {
      "text/latex": [
       "$\\displaystyle 0$"
      ],
      "text/plain": [
       "0"
      ]
     },
     "execution_count": 65,
     "metadata": {},
     "output_type": "execute_result"
    }
   ],
   "source": [
    "#НАКЛОННАЯ АСИМПТОТА\n",
    "\n",
    "# Для поиска наклонной асимптоты нам необходимо найти коэффициенты k и b для функции y=kx+b.\n",
    "\n",
    "# Для поиска коэффициента k ищем предел функции, делённой на x:\n",
    "\n",
    "from sympy import Symbol, limit, oo\n",
    "x = Symbol(\"x\")\n",
    "f = (x**3)/((x**2-1)*x)\n",
    "limit(f,x,oo)\n",
    "# Получаем 1 — это значит, что k=1 .\n",
    "\n",
    "# Теперь ищем . Для этого нужно найти предел для разности функции и произведения :\n",
    "\n",
    "from sympy import Symbol, limit, oo\n",
    "x = Symbol(\"x\")\n",
    "f = (x**3)/((x**2-1)) - 1*x\n",
    "limit(f,x,oo)\n",
    "# Получаем  0 — это значит, что наклонная асимптота задаётся уравнением y=x"
   ]
  },
  {
   "cell_type": "markdown",
   "metadata": {},
   "source": [
    "УСЛОВИЕ ДЛЯ ЗАДАНИЙ 8.1-8.11  \n",
    "  \n",
    "Исследуемая функция: \n",
    "y = x^3 / 2(x+5)^2"
   ]
  },
  {
   "cell_type": "code",
   "execution_count": 73,
   "metadata": {},
   "outputs": [
    {
     "data": {
      "text/latex": [
       "$\\displaystyle \\left(-\\infty, -5\\right) \\cup \\left(-5, \\infty\\right)$"
      ],
      "text/plain": [
       "Union(Interval.open(-oo, -5), Interval.open(-5, oo))"
      ]
     },
     "execution_count": 73,
     "metadata": {},
     "output_type": "execute_result"
    }
   ],
   "source": [
    "# 8.1\n",
    "# Найдите область определения функции:\n",
    "\n",
    "x = Symbol(\"x\") \n",
    "f = (x**3)/(2*(x+5)**2)\n",
    "continuous_domain(f, x, S.Reals)\n"
   ]
  },
  {
   "cell_type": "code",
   "execution_count": 74,
   "metadata": {},
   "outputs": [
    {
     "data": {
      "text/latex": [
       "$\\displaystyle \\left(-\\infty, \\infty\\right)$"
      ],
      "text/plain": [
       "Interval(-oo, oo)"
      ]
     },
     "execution_count": 74,
     "metadata": {},
     "output_type": "execute_result"
    }
   ],
   "source": [
    "# 8.2\n",
    "# Найдите область значений функции:\n",
    "\n",
    "function_range(f, x, S.Reals)"
   ]
  },
  {
   "cell_type": "code",
   "execution_count": 76,
   "metadata": {},
   "outputs": [
    {
     "data": {
      "text/latex": [
       "$\\displaystyle \\left\\{0\\right\\}$"
      ],
      "text/plain": [
       "{0}"
      ]
     },
     "execution_count": 76,
     "metadata": {},
     "output_type": "execute_result"
    }
   ],
   "source": [
    "# 8.4\n",
    "# В какой точке график пересекает ось абсцисс? В качестве ответа введите координату по х.\n",
    "solveset(Eq(f,0),x)"
   ]
  },
  {
   "cell_type": "code",
   "execution_count": 78,
   "metadata": {},
   "outputs": [
    {
     "data": {
      "text/latex": [
       "$\\displaystyle 0$"
      ],
      "text/plain": [
       "0"
      ]
     },
     "execution_count": 78,
     "metadata": {},
     "output_type": "execute_result"
    }
   ],
   "source": [
    "# 8.5\n",
    "# В какой точке график пересекает ось ординат? В качестве ответа введите координату по y.\n",
    "f.subs(x,0)"
   ]
  },
  {
   "cell_type": "code",
   "execution_count": 86,
   "metadata": {},
   "outputs": [
    {
     "data": {
      "text/latex": [
       "$\\displaystyle - \\frac{x^{3}}{\\left(x + 5\\right)^{3}} + \\frac{3 x^{2}}{2 \\left(x + 5\\right)^{2}}$"
      ],
      "text/plain": [
       "-x**3/(x + 5)**3 + 3*x**2/(2*(x + 5)**2)"
      ]
     },
     "execution_count": 86,
     "metadata": {},
     "output_type": "execute_result"
    }
   ],
   "source": [
    "# 8.6\n",
    "# Найдите производную от функции:\n",
    "f = (x**3)/(2*(x+5)**2)\n",
    "d1 = f.diff(x)\n",
    "d1"
   ]
  },
  {
   "cell_type": "code",
   "execution_count": 104,
   "metadata": {},
   "outputs": [
    {
     "data": {
      "text/latex": [
       "$\\displaystyle \\left\\{-15, 0\\right\\}$"
      ],
      "text/plain": [
       "{-15, 0}"
      ]
     },
     "execution_count": 104,
     "metadata": {},
     "output_type": "execute_result"
    }
   ],
   "source": [
    "# 8.7\n",
    "# Найдите точку максимума. Если её нет, введите в качестве ответа слово нет.\n",
    "# 8.8\n",
    "# Найдите точку минимума. Если её нет, введите в качестве ответа слово нет.\n",
    "solveset(Eq(d1,0),x)\n"
   ]
  },
  {
   "cell_type": "code",
   "execution_count": 105,
   "metadata": {},
   "outputs": [
    {
     "name": "stdout",
     "output_type": "stream",
     "text": [
      "289/1728\n",
      "-49/2\n",
      "1/27\n",
      "10/27\n"
     ]
    }
   ],
   "source": [
    "print(d1.subs(x,-17))\n",
    "print(d1.subs(x,-7))\n",
    "print(d1.subs(x,1))\n",
    "print(d1.subs(x,10))"
   ]
  },
  {
   "cell_type": "code",
   "execution_count": 106,
   "metadata": {},
   "outputs": [
    {
     "data": {
      "text/latex": [
       "$\\displaystyle \\frac{3 x \\left(\\frac{x^{2}}{\\left(x + 5\\right)^{2}} - \\frac{2 x}{x + 5} + 1\\right)}{\\left(x + 5\\right)^{2}}$"
      ],
      "text/plain": [
       "3*x*(x**2/(x + 5)**2 - 2*x/(x + 5) + 1)/(x + 5)**2"
      ]
     },
     "execution_count": 106,
     "metadata": {},
     "output_type": "execute_result"
    }
   ],
   "source": [
    "# 8.10\n",
    "# Вычислите вторую производную функции:.\n",
    "\n",
    "d2 = f.diff(x,2)\n",
    "d2"
   ]
  },
  {
   "cell_type": "code",
   "execution_count": 107,
   "metadata": {},
   "outputs": [
    {
     "data": {
      "text/latex": [
       "$\\displaystyle \\left\\{0\\right\\}$"
      ],
      "text/plain": [
       "{0}"
      ]
     },
     "execution_count": 107,
     "metadata": {},
     "output_type": "execute_result"
    }
   ],
   "source": [
    "# 8.11\n",
    "# На каком(-их) интервале(-ах) функция выпукла вверх?\n",
    "solveset(Eq(d2,0),x)"
   ]
  },
  {
   "cell_type": "code",
   "execution_count": 108,
   "metadata": {},
   "outputs": [
    {
     "name": "stdout",
     "output_type": "stream",
     "text": [
      "-525/16\n",
      "-75/256\n",
      "100/2187\n",
      "600/28561\n"
     ]
    }
   ],
   "source": [
    "print(d2.subs(x,-7))\n",
    "print(d2.subs(x,-1))\n",
    "print(d2.subs(x,4))\n",
    "print(d2.subs(x,8))"
   ]
  }
 ],
 "metadata": {
  "interpreter": {
   "hash": "aee8b7b246df8f9039afb4144a1f6fd8d2ca17a180786b69acc140d282b71a49"
  },
  "kernelspec": {
   "display_name": "Python 3.10.0 64-bit",
   "language": "python",
   "name": "python3"
  },
  "language_info": {
   "codemirror_mode": {
    "name": "ipython",
    "version": 3
   },
   "file_extension": ".py",
   "mimetype": "text/x-python",
   "name": "python",
   "nbconvert_exporter": "python",
   "pygments_lexer": "ipython3",
   "version": "3.10.0"
  },
  "orig_nbformat": 4
 },
 "nbformat": 4,
 "nbformat_minor": 2
}
